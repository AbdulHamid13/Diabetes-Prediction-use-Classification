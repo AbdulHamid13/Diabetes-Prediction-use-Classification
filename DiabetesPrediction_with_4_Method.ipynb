{
  "nbformat": 4,
  "nbformat_minor": 0,
  "metadata": {
    "colab": {
      "name": "DiabetesPrediction with 4 Method.ipynb",
      "provenance": [],
      "collapsed_sections": [],
      "mount_file_id": "1h7f50wkIz_2V9ICiYdJvGw1MKlJ1puTB",
      "authorship_tag": "ABX9TyMsLYnR8MyDKJQt4Te5E/rv",
      "include_colab_link": true
    },
    "kernelspec": {
      "name": "python3",
      "display_name": "Python 3"
    },
    "language_info": {
      "name": "python"
    }
  },
  "cells": [
    {
      "cell_type": "markdown",
      "metadata": {
        "id": "view-in-github",
        "colab_type": "text"
      },
      "source": [
        "<a href=\"https://colab.research.google.com/github/AbdulHamid13/Diabetes-Prediction-use-Classification/blob/main/DiabetesPrediction_with_4_Method.ipynb\" target=\"_parent\"><img src=\"https://colab.research.google.com/assets/colab-badge.svg\" alt=\"Open In Colab\"/></a>"
      ]
    },
    {
      "cell_type": "code",
      "execution_count": null,
      "metadata": {
        "id": "CZTNkeyYlweH"
      },
      "outputs": [],
      "source": [
        "import numpy as np\n",
        "import pandas as pd\n",
        "import seaborn as sns\n",
        "from matplotlib import pyplot as plt\n",
        "import pandas_profiling as pp\n",
        "from sklearn.metrics import accuracy_score\n",
        "from sklearn.preprocessing import MinMaxScaler, LabelEncoder, StandardScaler, RobustScaler\n",
        "\n",
        "from sklearn.linear_model import LogisticRegression\n",
        "from sklearn.metrics import accuracy_score, roc_auc_score, confusion_matrix, classification_report, plot_roc_curve\n",
        "from sklearn.model_selection import train_test_split, cross_validate\n",
        "\n",
        "pd.set_option('display.max_columns', None)\n",
        "pd.set_option('display.float_format', lambda x: '%.3f' % x)\n",
        "pd.set_option('display.width', 500)"
      ]
    },
    {
      "cell_type": "code",
      "source": [
        "from google.colab import drive\n",
        "drive.mount('/content/drive')"
      ],
      "metadata": {
        "colab": {
          "base_uri": "https://localhost:8080/"
        },
        "id": "IYtfNNWTl_Ha",
        "outputId": "3672ad28-131b-4c32-e7ca-3e1730edf019"
      },
      "execution_count": null,
      "outputs": [
        {
          "output_type": "stream",
          "name": "stdout",
          "text": [
            "Drive already mounted at /content/drive; to attempt to forcibly remount, call drive.mount(\"/content/drive\", force_remount=True).\n"
          ]
        }
      ]
    },
    {
      "cell_type": "code",
      "source": [
        "df = pd.read_csv(\"../content/drive/MyDrive/Colab Notebooks/PSD/diabetes.csv\")"
      ],
      "metadata": {
        "id": "tZSk9Y5bmQuu"
      },
      "execution_count": null,
      "outputs": []
    },
    {
      "cell_type": "code",
      "source": [
        "df.head()"
      ],
      "metadata": {
        "colab": {
          "base_uri": "https://localhost:8080/",
          "height": 206
        },
        "id": "JlDZEppnmcEV",
        "outputId": "b0a4f99e-c27f-4456-eb19-7aee4ce7c005"
      },
      "execution_count": null,
      "outputs": [
        {
          "output_type": "execute_result",
          "data": {
            "text/plain": [
              "   Pregnancies  Glucose  BloodPressure  SkinThickness  Insulin    BMI  DiabetesPedigreeFunction  Age  Outcome\n",
              "0            6      148             72             35        0 33.600                     0.627   50        1\n",
              "1            1       85             66             29        0 26.600                     0.351   31        0\n",
              "2            8      183             64              0        0 23.300                     0.672   32        1\n",
              "3            1       89             66             23       94 28.100                     0.167   21        0\n",
              "4            0      137             40             35      168 43.100                     2.288   33        1"
            ],
            "text/html": [
              "\n",
              "  <div id=\"df-7b5570d0-6e4e-4535-b056-d8b76d487cc8\">\n",
              "    <div class=\"colab-df-container\">\n",
              "      <div>\n",
              "<style scoped>\n",
              "    .dataframe tbody tr th:only-of-type {\n",
              "        vertical-align: middle;\n",
              "    }\n",
              "\n",
              "    .dataframe tbody tr th {\n",
              "        vertical-align: top;\n",
              "    }\n",
              "\n",
              "    .dataframe thead th {\n",
              "        text-align: right;\n",
              "    }\n",
              "</style>\n",
              "<table border=\"1\" class=\"dataframe\">\n",
              "  <thead>\n",
              "    <tr style=\"text-align: right;\">\n",
              "      <th></th>\n",
              "      <th>Pregnancies</th>\n",
              "      <th>Glucose</th>\n",
              "      <th>BloodPressure</th>\n",
              "      <th>SkinThickness</th>\n",
              "      <th>Insulin</th>\n",
              "      <th>BMI</th>\n",
              "      <th>DiabetesPedigreeFunction</th>\n",
              "      <th>Age</th>\n",
              "      <th>Outcome</th>\n",
              "    </tr>\n",
              "  </thead>\n",
              "  <tbody>\n",
              "    <tr>\n",
              "      <th>0</th>\n",
              "      <td>6</td>\n",
              "      <td>148</td>\n",
              "      <td>72</td>\n",
              "      <td>35</td>\n",
              "      <td>0</td>\n",
              "      <td>33.600</td>\n",
              "      <td>0.627</td>\n",
              "      <td>50</td>\n",
              "      <td>1</td>\n",
              "    </tr>\n",
              "    <tr>\n",
              "      <th>1</th>\n",
              "      <td>1</td>\n",
              "      <td>85</td>\n",
              "      <td>66</td>\n",
              "      <td>29</td>\n",
              "      <td>0</td>\n",
              "      <td>26.600</td>\n",
              "      <td>0.351</td>\n",
              "      <td>31</td>\n",
              "      <td>0</td>\n",
              "    </tr>\n",
              "    <tr>\n",
              "      <th>2</th>\n",
              "      <td>8</td>\n",
              "      <td>183</td>\n",
              "      <td>64</td>\n",
              "      <td>0</td>\n",
              "      <td>0</td>\n",
              "      <td>23.300</td>\n",
              "      <td>0.672</td>\n",
              "      <td>32</td>\n",
              "      <td>1</td>\n",
              "    </tr>\n",
              "    <tr>\n",
              "      <th>3</th>\n",
              "      <td>1</td>\n",
              "      <td>89</td>\n",
              "      <td>66</td>\n",
              "      <td>23</td>\n",
              "      <td>94</td>\n",
              "      <td>28.100</td>\n",
              "      <td>0.167</td>\n",
              "      <td>21</td>\n",
              "      <td>0</td>\n",
              "    </tr>\n",
              "    <tr>\n",
              "      <th>4</th>\n",
              "      <td>0</td>\n",
              "      <td>137</td>\n",
              "      <td>40</td>\n",
              "      <td>35</td>\n",
              "      <td>168</td>\n",
              "      <td>43.100</td>\n",
              "      <td>2.288</td>\n",
              "      <td>33</td>\n",
              "      <td>1</td>\n",
              "    </tr>\n",
              "  </tbody>\n",
              "</table>\n",
              "</div>\n",
              "      <button class=\"colab-df-convert\" onclick=\"convertToInteractive('df-7b5570d0-6e4e-4535-b056-d8b76d487cc8')\"\n",
              "              title=\"Convert this dataframe to an interactive table.\"\n",
              "              style=\"display:none;\">\n",
              "        \n",
              "  <svg xmlns=\"http://www.w3.org/2000/svg\" height=\"24px\"viewBox=\"0 0 24 24\"\n",
              "       width=\"24px\">\n",
              "    <path d=\"M0 0h24v24H0V0z\" fill=\"none\"/>\n",
              "    <path d=\"M18.56 5.44l.94 2.06.94-2.06 2.06-.94-2.06-.94-.94-2.06-.94 2.06-2.06.94zm-11 1L8.5 8.5l.94-2.06 2.06-.94-2.06-.94L8.5 2.5l-.94 2.06-2.06.94zm10 10l.94 2.06.94-2.06 2.06-.94-2.06-.94-.94-2.06-.94 2.06-2.06.94z\"/><path d=\"M17.41 7.96l-1.37-1.37c-.4-.4-.92-.59-1.43-.59-.52 0-1.04.2-1.43.59L10.3 9.45l-7.72 7.72c-.78.78-.78 2.05 0 2.83L4 21.41c.39.39.9.59 1.41.59.51 0 1.02-.2 1.41-.59l7.78-7.78 2.81-2.81c.8-.78.8-2.07 0-2.86zM5.41 20L4 18.59l7.72-7.72 1.47 1.35L5.41 20z\"/>\n",
              "  </svg>\n",
              "      </button>\n",
              "      \n",
              "  <style>\n",
              "    .colab-df-container {\n",
              "      display:flex;\n",
              "      flex-wrap:wrap;\n",
              "      gap: 12px;\n",
              "    }\n",
              "\n",
              "    .colab-df-convert {\n",
              "      background-color: #E8F0FE;\n",
              "      border: none;\n",
              "      border-radius: 50%;\n",
              "      cursor: pointer;\n",
              "      display: none;\n",
              "      fill: #1967D2;\n",
              "      height: 32px;\n",
              "      padding: 0 0 0 0;\n",
              "      width: 32px;\n",
              "    }\n",
              "\n",
              "    .colab-df-convert:hover {\n",
              "      background-color: #E2EBFA;\n",
              "      box-shadow: 0px 1px 2px rgba(60, 64, 67, 0.3), 0px 1px 3px 1px rgba(60, 64, 67, 0.15);\n",
              "      fill: #174EA6;\n",
              "    }\n",
              "\n",
              "    [theme=dark] .colab-df-convert {\n",
              "      background-color: #3B4455;\n",
              "      fill: #D2E3FC;\n",
              "    }\n",
              "\n",
              "    [theme=dark] .colab-df-convert:hover {\n",
              "      background-color: #434B5C;\n",
              "      box-shadow: 0px 1px 3px 1px rgba(0, 0, 0, 0.15);\n",
              "      filter: drop-shadow(0px 1px 2px rgba(0, 0, 0, 0.3));\n",
              "      fill: #FFFFFF;\n",
              "    }\n",
              "  </style>\n",
              "\n",
              "      <script>\n",
              "        const buttonEl =\n",
              "          document.querySelector('#df-7b5570d0-6e4e-4535-b056-d8b76d487cc8 button.colab-df-convert');\n",
              "        buttonEl.style.display =\n",
              "          google.colab.kernel.accessAllowed ? 'block' : 'none';\n",
              "\n",
              "        async function convertToInteractive(key) {\n",
              "          const element = document.querySelector('#df-7b5570d0-6e4e-4535-b056-d8b76d487cc8');\n",
              "          const dataTable =\n",
              "            await google.colab.kernel.invokeFunction('convertToInteractive',\n",
              "                                                     [key], {});\n",
              "          if (!dataTable) return;\n",
              "\n",
              "          const docLinkHtml = 'Like what you see? Visit the ' +\n",
              "            '<a target=\"_blank\" href=https://colab.research.google.com/notebooks/data_table.ipynb>data table notebook</a>'\n",
              "            + ' to learn more about interactive tables.';\n",
              "          element.innerHTML = '';\n",
              "          dataTable['output_type'] = 'display_data';\n",
              "          await google.colab.output.renderOutput(dataTable, element);\n",
              "          const docLink = document.createElement('div');\n",
              "          docLink.innerHTML = docLinkHtml;\n",
              "          element.appendChild(docLink);\n",
              "        }\n",
              "      </script>\n",
              "    </div>\n",
              "  </div>\n",
              "  "
            ]
          },
          "metadata": {},
          "execution_count": 4
        }
      ]
    },
    {
      "cell_type": "code",
      "source": [
        "print(\"Shape of Data is ==> \",df.shape)"
      ],
      "metadata": {
        "colab": {
          "base_uri": "https://localhost:8080/"
        },
        "id": "LdUXiMHgmjgW",
        "outputId": "547a6b27-ea22-4e92-d4ab-a80807205b56"
      },
      "execution_count": null,
      "outputs": [
        {
          "output_type": "stream",
          "name": "stdout",
          "text": [
            "Shape of Data is ==>  (768, 9)\n"
          ]
        }
      ]
    },
    {
      "cell_type": "code",
      "source": [
        "df.info()"
      ],
      "metadata": {
        "colab": {
          "base_uri": "https://localhost:8080/"
        },
        "id": "n_AbpBdomny9",
        "outputId": "7f7a7dba-de59-4102-8d15-6f82532572b0"
      },
      "execution_count": null,
      "outputs": [
        {
          "output_type": "stream",
          "name": "stdout",
          "text": [
            "<class 'pandas.core.frame.DataFrame'>\n",
            "RangeIndex: 768 entries, 0 to 767\n",
            "Data columns (total 9 columns):\n",
            " #   Column                    Non-Null Count  Dtype  \n",
            "---  ------                    --------------  -----  \n",
            " 0   Pregnancies               768 non-null    int64  \n",
            " 1   Glucose                   768 non-null    int64  \n",
            " 2   BloodPressure             768 non-null    int64  \n",
            " 3   SkinThickness             768 non-null    int64  \n",
            " 4   Insulin                   768 non-null    int64  \n",
            " 5   BMI                       768 non-null    float64\n",
            " 6   DiabetesPedigreeFunction  768 non-null    float64\n",
            " 7   Age                       768 non-null    int64  \n",
            " 8   Outcome                   768 non-null    int64  \n",
            "dtypes: float64(2), int64(7)\n",
            "memory usage: 54.1 KB\n"
          ]
        }
      ]
    },
    {
      "cell_type": "code",
      "source": [
        "df.describe().T"
      ],
      "metadata": {
        "colab": {
          "base_uri": "https://localhost:8080/",
          "height": 331
        },
        "id": "C_p6zl1KmrwN",
        "outputId": "ce05a1ed-a046-4d1d-bba0-ef7fffffc554"
      },
      "execution_count": null,
      "outputs": [
        {
          "output_type": "execute_result",
          "data": {
            "text/plain": [
              "                           count    mean     std    min    25%     50%     75%     max\n",
              "Pregnancies              768.000   3.845   3.370  0.000  1.000   3.000   6.000  17.000\n",
              "Glucose                  768.000 120.895  31.973  0.000 99.000 117.000 140.250 199.000\n",
              "BloodPressure            768.000  69.105  19.356  0.000 62.000  72.000  80.000 122.000\n",
              "SkinThickness            768.000  20.536  15.952  0.000  0.000  23.000  32.000  99.000\n",
              "Insulin                  768.000  79.799 115.244  0.000  0.000  30.500 127.250 846.000\n",
              "BMI                      768.000  31.993   7.884  0.000 27.300  32.000  36.600  67.100\n",
              "DiabetesPedigreeFunction 768.000   0.472   0.331  0.078  0.244   0.372   0.626   2.420\n",
              "Age                      768.000  33.241  11.760 21.000 24.000  29.000  41.000  81.000\n",
              "Outcome                  768.000   0.349   0.477  0.000  0.000   0.000   1.000   1.000"
            ],
            "text/html": [
              "\n",
              "  <div id=\"df-d5df1a69-7a52-4c65-ab97-1cd0b6f5fa18\">\n",
              "    <div class=\"colab-df-container\">\n",
              "      <div>\n",
              "<style scoped>\n",
              "    .dataframe tbody tr th:only-of-type {\n",
              "        vertical-align: middle;\n",
              "    }\n",
              "\n",
              "    .dataframe tbody tr th {\n",
              "        vertical-align: top;\n",
              "    }\n",
              "\n",
              "    .dataframe thead th {\n",
              "        text-align: right;\n",
              "    }\n",
              "</style>\n",
              "<table border=\"1\" class=\"dataframe\">\n",
              "  <thead>\n",
              "    <tr style=\"text-align: right;\">\n",
              "      <th></th>\n",
              "      <th>count</th>\n",
              "      <th>mean</th>\n",
              "      <th>std</th>\n",
              "      <th>min</th>\n",
              "      <th>25%</th>\n",
              "      <th>50%</th>\n",
              "      <th>75%</th>\n",
              "      <th>max</th>\n",
              "    </tr>\n",
              "  </thead>\n",
              "  <tbody>\n",
              "    <tr>\n",
              "      <th>Pregnancies</th>\n",
              "      <td>768.000</td>\n",
              "      <td>3.845</td>\n",
              "      <td>3.370</td>\n",
              "      <td>0.000</td>\n",
              "      <td>1.000</td>\n",
              "      <td>3.000</td>\n",
              "      <td>6.000</td>\n",
              "      <td>17.000</td>\n",
              "    </tr>\n",
              "    <tr>\n",
              "      <th>Glucose</th>\n",
              "      <td>768.000</td>\n",
              "      <td>120.895</td>\n",
              "      <td>31.973</td>\n",
              "      <td>0.000</td>\n",
              "      <td>99.000</td>\n",
              "      <td>117.000</td>\n",
              "      <td>140.250</td>\n",
              "      <td>199.000</td>\n",
              "    </tr>\n",
              "    <tr>\n",
              "      <th>BloodPressure</th>\n",
              "      <td>768.000</td>\n",
              "      <td>69.105</td>\n",
              "      <td>19.356</td>\n",
              "      <td>0.000</td>\n",
              "      <td>62.000</td>\n",
              "      <td>72.000</td>\n",
              "      <td>80.000</td>\n",
              "      <td>122.000</td>\n",
              "    </tr>\n",
              "    <tr>\n",
              "      <th>SkinThickness</th>\n",
              "      <td>768.000</td>\n",
              "      <td>20.536</td>\n",
              "      <td>15.952</td>\n",
              "      <td>0.000</td>\n",
              "      <td>0.000</td>\n",
              "      <td>23.000</td>\n",
              "      <td>32.000</td>\n",
              "      <td>99.000</td>\n",
              "    </tr>\n",
              "    <tr>\n",
              "      <th>Insulin</th>\n",
              "      <td>768.000</td>\n",
              "      <td>79.799</td>\n",
              "      <td>115.244</td>\n",
              "      <td>0.000</td>\n",
              "      <td>0.000</td>\n",
              "      <td>30.500</td>\n",
              "      <td>127.250</td>\n",
              "      <td>846.000</td>\n",
              "    </tr>\n",
              "    <tr>\n",
              "      <th>BMI</th>\n",
              "      <td>768.000</td>\n",
              "      <td>31.993</td>\n",
              "      <td>7.884</td>\n",
              "      <td>0.000</td>\n",
              "      <td>27.300</td>\n",
              "      <td>32.000</td>\n",
              "      <td>36.600</td>\n",
              "      <td>67.100</td>\n",
              "    </tr>\n",
              "    <tr>\n",
              "      <th>DiabetesPedigreeFunction</th>\n",
              "      <td>768.000</td>\n",
              "      <td>0.472</td>\n",
              "      <td>0.331</td>\n",
              "      <td>0.078</td>\n",
              "      <td>0.244</td>\n",
              "      <td>0.372</td>\n",
              "      <td>0.626</td>\n",
              "      <td>2.420</td>\n",
              "    </tr>\n",
              "    <tr>\n",
              "      <th>Age</th>\n",
              "      <td>768.000</td>\n",
              "      <td>33.241</td>\n",
              "      <td>11.760</td>\n",
              "      <td>21.000</td>\n",
              "      <td>24.000</td>\n",
              "      <td>29.000</td>\n",
              "      <td>41.000</td>\n",
              "      <td>81.000</td>\n",
              "    </tr>\n",
              "    <tr>\n",
              "      <th>Outcome</th>\n",
              "      <td>768.000</td>\n",
              "      <td>0.349</td>\n",
              "      <td>0.477</td>\n",
              "      <td>0.000</td>\n",
              "      <td>0.000</td>\n",
              "      <td>0.000</td>\n",
              "      <td>1.000</td>\n",
              "      <td>1.000</td>\n",
              "    </tr>\n",
              "  </tbody>\n",
              "</table>\n",
              "</div>\n",
              "      <button class=\"colab-df-convert\" onclick=\"convertToInteractive('df-d5df1a69-7a52-4c65-ab97-1cd0b6f5fa18')\"\n",
              "              title=\"Convert this dataframe to an interactive table.\"\n",
              "              style=\"display:none;\">\n",
              "        \n",
              "  <svg xmlns=\"http://www.w3.org/2000/svg\" height=\"24px\"viewBox=\"0 0 24 24\"\n",
              "       width=\"24px\">\n",
              "    <path d=\"M0 0h24v24H0V0z\" fill=\"none\"/>\n",
              "    <path d=\"M18.56 5.44l.94 2.06.94-2.06 2.06-.94-2.06-.94-.94-2.06-.94 2.06-2.06.94zm-11 1L8.5 8.5l.94-2.06 2.06-.94-2.06-.94L8.5 2.5l-.94 2.06-2.06.94zm10 10l.94 2.06.94-2.06 2.06-.94-2.06-.94-.94-2.06-.94 2.06-2.06.94z\"/><path d=\"M17.41 7.96l-1.37-1.37c-.4-.4-.92-.59-1.43-.59-.52 0-1.04.2-1.43.59L10.3 9.45l-7.72 7.72c-.78.78-.78 2.05 0 2.83L4 21.41c.39.39.9.59 1.41.59.51 0 1.02-.2 1.41-.59l7.78-7.78 2.81-2.81c.8-.78.8-2.07 0-2.86zM5.41 20L4 18.59l7.72-7.72 1.47 1.35L5.41 20z\"/>\n",
              "  </svg>\n",
              "      </button>\n",
              "      \n",
              "  <style>\n",
              "    .colab-df-container {\n",
              "      display:flex;\n",
              "      flex-wrap:wrap;\n",
              "      gap: 12px;\n",
              "    }\n",
              "\n",
              "    .colab-df-convert {\n",
              "      background-color: #E8F0FE;\n",
              "      border: none;\n",
              "      border-radius: 50%;\n",
              "      cursor: pointer;\n",
              "      display: none;\n",
              "      fill: #1967D2;\n",
              "      height: 32px;\n",
              "      padding: 0 0 0 0;\n",
              "      width: 32px;\n",
              "    }\n",
              "\n",
              "    .colab-df-convert:hover {\n",
              "      background-color: #E2EBFA;\n",
              "      box-shadow: 0px 1px 2px rgba(60, 64, 67, 0.3), 0px 1px 3px 1px rgba(60, 64, 67, 0.15);\n",
              "      fill: #174EA6;\n",
              "    }\n",
              "\n",
              "    [theme=dark] .colab-df-convert {\n",
              "      background-color: #3B4455;\n",
              "      fill: #D2E3FC;\n",
              "    }\n",
              "\n",
              "    [theme=dark] .colab-df-convert:hover {\n",
              "      background-color: #434B5C;\n",
              "      box-shadow: 0px 1px 3px 1px rgba(0, 0, 0, 0.15);\n",
              "      filter: drop-shadow(0px 1px 2px rgba(0, 0, 0, 0.3));\n",
              "      fill: #FFFFFF;\n",
              "    }\n",
              "  </style>\n",
              "\n",
              "      <script>\n",
              "        const buttonEl =\n",
              "          document.querySelector('#df-d5df1a69-7a52-4c65-ab97-1cd0b6f5fa18 button.colab-df-convert');\n",
              "        buttonEl.style.display =\n",
              "          google.colab.kernel.accessAllowed ? 'block' : 'none';\n",
              "\n",
              "        async function convertToInteractive(key) {\n",
              "          const element = document.querySelector('#df-d5df1a69-7a52-4c65-ab97-1cd0b6f5fa18');\n",
              "          const dataTable =\n",
              "            await google.colab.kernel.invokeFunction('convertToInteractive',\n",
              "                                                     [key], {});\n",
              "          if (!dataTable) return;\n",
              "\n",
              "          const docLinkHtml = 'Like what you see? Visit the ' +\n",
              "            '<a target=\"_blank\" href=https://colab.research.google.com/notebooks/data_table.ipynb>data table notebook</a>'\n",
              "            + ' to learn more about interactive tables.';\n",
              "          element.innerHTML = '';\n",
              "          dataTable['output_type'] = 'display_data';\n",
              "          await google.colab.output.renderOutput(dataTable, element);\n",
              "          const docLink = document.createElement('div');\n",
              "          docLink.innerHTML = docLinkHtml;\n",
              "          element.appendChild(docLink);\n",
              "        }\n",
              "      </script>\n",
              "    </div>\n",
              "  </div>\n",
              "  "
            ]
          },
          "metadata": {},
          "execution_count": 7
        }
      ]
    },
    {
      "cell_type": "code",
      "source": [
        "for i in df.columns:\n",
        "    print(i)"
      ],
      "metadata": {
        "colab": {
          "base_uri": "https://localhost:8080/"
        },
        "id": "NtxEpTSlmv0p",
        "outputId": "a61bc41d-c9f7-4524-ee9c-6ed34a960895"
      },
      "execution_count": null,
      "outputs": [
        {
          "output_type": "stream",
          "name": "stdout",
          "text": [
            "Pregnancies\n",
            "Glucose\n",
            "BloodPressure\n",
            "SkinThickness\n",
            "Insulin\n",
            "BMI\n",
            "DiabetesPedigreeFunction\n",
            "Age\n",
            "Outcome\n"
          ]
        }
      ]
    },
    {
      "cell_type": "code",
      "source": [
        "df.rename({'DiabetesPedigreeFunction':'DPF'},inplace = True,axis =1)\n",
        "df.head()"
      ],
      "metadata": {
        "colab": {
          "base_uri": "https://localhost:8080/",
          "height": 206
        },
        "id": "IZafB68am0uG",
        "outputId": "77d1f952-6bcc-44c6-bda7-337e4469c872"
      },
      "execution_count": null,
      "outputs": [
        {
          "output_type": "execute_result",
          "data": {
            "text/plain": [
              "   Pregnancies  Glucose  BloodPressure  SkinThickness  Insulin    BMI   DPF  Age  Outcome\n",
              "0            6      148             72             35        0 33.600 0.627   50        1\n",
              "1            1       85             66             29        0 26.600 0.351   31        0\n",
              "2            8      183             64              0        0 23.300 0.672   32        1\n",
              "3            1       89             66             23       94 28.100 0.167   21        0\n",
              "4            0      137             40             35      168 43.100 2.288   33        1"
            ],
            "text/html": [
              "\n",
              "  <div id=\"df-5e857fde-e4b5-4f23-86b0-c9a7e411a8b0\">\n",
              "    <div class=\"colab-df-container\">\n",
              "      <div>\n",
              "<style scoped>\n",
              "    .dataframe tbody tr th:only-of-type {\n",
              "        vertical-align: middle;\n",
              "    }\n",
              "\n",
              "    .dataframe tbody tr th {\n",
              "        vertical-align: top;\n",
              "    }\n",
              "\n",
              "    .dataframe thead th {\n",
              "        text-align: right;\n",
              "    }\n",
              "</style>\n",
              "<table border=\"1\" class=\"dataframe\">\n",
              "  <thead>\n",
              "    <tr style=\"text-align: right;\">\n",
              "      <th></th>\n",
              "      <th>Pregnancies</th>\n",
              "      <th>Glucose</th>\n",
              "      <th>BloodPressure</th>\n",
              "      <th>SkinThickness</th>\n",
              "      <th>Insulin</th>\n",
              "      <th>BMI</th>\n",
              "      <th>DPF</th>\n",
              "      <th>Age</th>\n",
              "      <th>Outcome</th>\n",
              "    </tr>\n",
              "  </thead>\n",
              "  <tbody>\n",
              "    <tr>\n",
              "      <th>0</th>\n",
              "      <td>6</td>\n",
              "      <td>148</td>\n",
              "      <td>72</td>\n",
              "      <td>35</td>\n",
              "      <td>0</td>\n",
              "      <td>33.600</td>\n",
              "      <td>0.627</td>\n",
              "      <td>50</td>\n",
              "      <td>1</td>\n",
              "    </tr>\n",
              "    <tr>\n",
              "      <th>1</th>\n",
              "      <td>1</td>\n",
              "      <td>85</td>\n",
              "      <td>66</td>\n",
              "      <td>29</td>\n",
              "      <td>0</td>\n",
              "      <td>26.600</td>\n",
              "      <td>0.351</td>\n",
              "      <td>31</td>\n",
              "      <td>0</td>\n",
              "    </tr>\n",
              "    <tr>\n",
              "      <th>2</th>\n",
              "      <td>8</td>\n",
              "      <td>183</td>\n",
              "      <td>64</td>\n",
              "      <td>0</td>\n",
              "      <td>0</td>\n",
              "      <td>23.300</td>\n",
              "      <td>0.672</td>\n",
              "      <td>32</td>\n",
              "      <td>1</td>\n",
              "    </tr>\n",
              "    <tr>\n",
              "      <th>3</th>\n",
              "      <td>1</td>\n",
              "      <td>89</td>\n",
              "      <td>66</td>\n",
              "      <td>23</td>\n",
              "      <td>94</td>\n",
              "      <td>28.100</td>\n",
              "      <td>0.167</td>\n",
              "      <td>21</td>\n",
              "      <td>0</td>\n",
              "    </tr>\n",
              "    <tr>\n",
              "      <th>4</th>\n",
              "      <td>0</td>\n",
              "      <td>137</td>\n",
              "      <td>40</td>\n",
              "      <td>35</td>\n",
              "      <td>168</td>\n",
              "      <td>43.100</td>\n",
              "      <td>2.288</td>\n",
              "      <td>33</td>\n",
              "      <td>1</td>\n",
              "    </tr>\n",
              "  </tbody>\n",
              "</table>\n",
              "</div>\n",
              "      <button class=\"colab-df-convert\" onclick=\"convertToInteractive('df-5e857fde-e4b5-4f23-86b0-c9a7e411a8b0')\"\n",
              "              title=\"Convert this dataframe to an interactive table.\"\n",
              "              style=\"display:none;\">\n",
              "        \n",
              "  <svg xmlns=\"http://www.w3.org/2000/svg\" height=\"24px\"viewBox=\"0 0 24 24\"\n",
              "       width=\"24px\">\n",
              "    <path d=\"M0 0h24v24H0V0z\" fill=\"none\"/>\n",
              "    <path d=\"M18.56 5.44l.94 2.06.94-2.06 2.06-.94-2.06-.94-.94-2.06-.94 2.06-2.06.94zm-11 1L8.5 8.5l.94-2.06 2.06-.94-2.06-.94L8.5 2.5l-.94 2.06-2.06.94zm10 10l.94 2.06.94-2.06 2.06-.94-2.06-.94-.94-2.06-.94 2.06-2.06.94z\"/><path d=\"M17.41 7.96l-1.37-1.37c-.4-.4-.92-.59-1.43-.59-.52 0-1.04.2-1.43.59L10.3 9.45l-7.72 7.72c-.78.78-.78 2.05 0 2.83L4 21.41c.39.39.9.59 1.41.59.51 0 1.02-.2 1.41-.59l7.78-7.78 2.81-2.81c.8-.78.8-2.07 0-2.86zM5.41 20L4 18.59l7.72-7.72 1.47 1.35L5.41 20z\"/>\n",
              "  </svg>\n",
              "      </button>\n",
              "      \n",
              "  <style>\n",
              "    .colab-df-container {\n",
              "      display:flex;\n",
              "      flex-wrap:wrap;\n",
              "      gap: 12px;\n",
              "    }\n",
              "\n",
              "    .colab-df-convert {\n",
              "      background-color: #E8F0FE;\n",
              "      border: none;\n",
              "      border-radius: 50%;\n",
              "      cursor: pointer;\n",
              "      display: none;\n",
              "      fill: #1967D2;\n",
              "      height: 32px;\n",
              "      padding: 0 0 0 0;\n",
              "      width: 32px;\n",
              "    }\n",
              "\n",
              "    .colab-df-convert:hover {\n",
              "      background-color: #E2EBFA;\n",
              "      box-shadow: 0px 1px 2px rgba(60, 64, 67, 0.3), 0px 1px 3px 1px rgba(60, 64, 67, 0.15);\n",
              "      fill: #174EA6;\n",
              "    }\n",
              "\n",
              "    [theme=dark] .colab-df-convert {\n",
              "      background-color: #3B4455;\n",
              "      fill: #D2E3FC;\n",
              "    }\n",
              "\n",
              "    [theme=dark] .colab-df-convert:hover {\n",
              "      background-color: #434B5C;\n",
              "      box-shadow: 0px 1px 3px 1px rgba(0, 0, 0, 0.15);\n",
              "      filter: drop-shadow(0px 1px 2px rgba(0, 0, 0, 0.3));\n",
              "      fill: #FFFFFF;\n",
              "    }\n",
              "  </style>\n",
              "\n",
              "      <script>\n",
              "        const buttonEl =\n",
              "          document.querySelector('#df-5e857fde-e4b5-4f23-86b0-c9a7e411a8b0 button.colab-df-convert');\n",
              "        buttonEl.style.display =\n",
              "          google.colab.kernel.accessAllowed ? 'block' : 'none';\n",
              "\n",
              "        async function convertToInteractive(key) {\n",
              "          const element = document.querySelector('#df-5e857fde-e4b5-4f23-86b0-c9a7e411a8b0');\n",
              "          const dataTable =\n",
              "            await google.colab.kernel.invokeFunction('convertToInteractive',\n",
              "                                                     [key], {});\n",
              "          if (!dataTable) return;\n",
              "\n",
              "          const docLinkHtml = 'Like what you see? Visit the ' +\n",
              "            '<a target=\"_blank\" href=https://colab.research.google.com/notebooks/data_table.ipynb>data table notebook</a>'\n",
              "            + ' to learn more about interactive tables.';\n",
              "          element.innerHTML = '';\n",
              "          dataTable['output_type'] = 'display_data';\n",
              "          await google.colab.output.renderOutput(dataTable, element);\n",
              "          const docLink = document.createElement('div');\n",
              "          docLink.innerHTML = docLinkHtml;\n",
              "          element.appendChild(docLink);\n",
              "        }\n",
              "      </script>\n",
              "    </div>\n",
              "  </div>\n",
              "  "
            ]
          },
          "metadata": {},
          "execution_count": 9
        }
      ]
    },
    {
      "cell_type": "code",
      "source": [
        "df.dtypes"
      ],
      "metadata": {
        "colab": {
          "base_uri": "https://localhost:8080/"
        },
        "id": "MoYWlz5Lm5Bd",
        "outputId": "2f2926de-f1ed-4660-896a-dce208d313ca"
      },
      "execution_count": null,
      "outputs": [
        {
          "output_type": "execute_result",
          "data": {
            "text/plain": [
              "Pregnancies        int64\n",
              "Glucose            int64\n",
              "BloodPressure      int64\n",
              "SkinThickness      int64\n",
              "Insulin            int64\n",
              "BMI              float64\n",
              "DPF              float64\n",
              "Age                int64\n",
              "Outcome            int64\n",
              "dtype: object"
            ]
          },
          "metadata": {},
          "execution_count": 10
        }
      ]
    },
    {
      "cell_type": "code",
      "source": [
        "def std_based(col_name,df):\n",
        "    mean = df[col_name].mean()\n",
        "    std = df[col_name].std()\n",
        "    cut_off = std * 3\n",
        "    lower, upper = mean - cut_off, mean + cut_off\n",
        "    new_df = df[(df[col_name] < upper) & (df[col_name] > lower)]\n",
        "    return new_df"
      ],
      "metadata": {
        "id": "zDBxrPUjm8h-"
      },
      "execution_count": null,
      "outputs": []
    },
    {
      "cell_type": "code",
      "source": [
        "df.isnull().sum()"
      ],
      "metadata": {
        "colab": {
          "base_uri": "https://localhost:8080/"
        },
        "id": "RmDb1mxpnAcJ",
        "outputId": "6b55df88-63cf-4c14-899a-d73145c16f95"
      },
      "execution_count": null,
      "outputs": [
        {
          "output_type": "execute_result",
          "data": {
            "text/plain": [
              "Pregnancies      0\n",
              "Glucose          0\n",
              "BloodPressure    0\n",
              "SkinThickness    0\n",
              "Insulin          0\n",
              "BMI              0\n",
              "DPF              0\n",
              "Age              0\n",
              "Outcome          0\n",
              "dtype: int64"
            ]
          },
          "metadata": {},
          "execution_count": 12
        }
      ]
    },
    {
      "cell_type": "code",
      "source": [
        "df['Pregnancies'].describe()"
      ],
      "metadata": {
        "colab": {
          "base_uri": "https://localhost:8080/"
        },
        "id": "RURUngBTnELp",
        "outputId": "e42e50d3-1394-47fb-f827-af91e8d743d3"
      },
      "execution_count": null,
      "outputs": [
        {
          "output_type": "execute_result",
          "data": {
            "text/plain": [
              "count   768.000\n",
              "mean      3.845\n",
              "std       3.370\n",
              "min       0.000\n",
              "25%       1.000\n",
              "50%       3.000\n",
              "75%       6.000\n",
              "max      17.000\n",
              "Name: Pregnancies, dtype: float64"
            ]
          },
          "metadata": {},
          "execution_count": 13
        }
      ]
    },
    {
      "cell_type": "code",
      "source": [
        "fig,axes = plt.subplots(nrows=1,ncols=2,dpi=120,figsize = (8,4))\n",
        "\n",
        "plot00=sns.distplot(df['Pregnancies'],ax=axes[0],color='m')\n",
        "axes[0].set_title('Distribution of Pregnancy',fontdict={'fontsize':8})\n",
        "axes[0].set_xlabel('Pregnancy Class',fontdict={'fontsize':7})\n",
        "axes[0].set_ylabel('Frequency/Distrubtion',fontdict={'fontsize':7})\n",
        "plt.tight_layout()\n",
        "\n",
        "\n",
        "plot01=sns.boxplot('Pregnancies',data=df,ax=axes[1],orient = 'v',color='c')\n",
        "axes[1].set_title('Five Point Summary',fontdict={'fontsize':8})\n",
        "plt.tight_layout()"
      ],
      "metadata": {
        "colab": {
          "base_uri": "https://localhost:8080/",
          "height": 614
        },
        "id": "u569qXmfnInv",
        "outputId": "3cbc8eb0-1eaa-46cb-954a-6afbed3031d0"
      },
      "execution_count": null,
      "outputs": [
        {
          "output_type": "stream",
          "name": "stderr",
          "text": [
            "/usr/local/lib/python3.7/dist-packages/seaborn/distributions.py:2619: FutureWarning: `distplot` is a deprecated function and will be removed in a future version. Please adapt your code to use either `displot` (a figure-level function with similar flexibility) or `histplot` (an axes-level function for histograms).\n",
            "  warnings.warn(msg, FutureWarning)\n",
            "/usr/local/lib/python3.7/dist-packages/seaborn/_decorators.py:43: FutureWarning: Pass the following variable as a keyword arg: x. From version 0.12, the only valid positional argument will be `data`, and passing other arguments without an explicit keyword will result in an error or misinterpretation.\n",
            "  FutureWarning\n",
            "/usr/local/lib/python3.7/dist-packages/seaborn/_core.py:1326: UserWarning: Vertical orientation ignored with only `x` specified.\n",
            "  warnings.warn(single_var_warning.format(\"Vertical\", \"x\"))\n"
          ]
        },
        {
          "output_type": "display_data",
          "data": {
            "text/plain": [
              "<Figure size 960x480 with 2 Axes>"
            ],
            "image/png": "[encoded data removed]"
          },
          "metadata": {
            "needs_background": "light"
          }
        }
      ]
    },
    {
      "cell_type": "code",
      "source": [
        "df['Glucose'].describe()"
      ],
      "metadata": {
        "colab": {
          "base_uri": "https://localhost:8080/"
        },
        "id": "d-Ucq63RnNz6",
        "outputId": "8cd180b4-04be-45c9-a8a1-333b757a078a"
      },
      "execution_count": null,
      "outputs": [
        {
          "output_type": "execute_result",
          "data": {
            "text/plain": [
              "count   768.000\n",
              "mean    120.895\n",
              "std      31.973\n",
              "min       0.000\n",
              "25%      99.000\n",
              "50%     117.000\n",
              "75%     140.250\n",
              "max     199.000\n",
              "Name: Glucose, dtype: float64"
            ]
          },
          "metadata": {},
          "execution_count": 15
        }
      ]
    },
    {
      "cell_type": "code",
      "source": [
        "fig,axes = plt.subplots(nrows=1,ncols=2,dpi=120,figsize = (8,4))\n",
        "\n",
        "plot00=sns.distplot(df['Glucose'],ax=axes[0],color='b')\n",
        "axes[0].set_title('Distribution of Glucose',fontdict={'fontsize':8})\n",
        "axes[0].set_xlabel('Glucose Class',fontdict={'fontsize':7})\n",
        "axes[0].set_ylabel('Frequency/Distrubtion',fontdict={'fontsize':7})\n",
        "plt.tight_layout()\n",
        "\n",
        "\n",
        "plot01=sns.boxplot('Glucose',data=df,ax=axes[1],orient = 'v',color='m')\n",
        "axes[1].set_title('Five Point Summary',fontdict={'fontsize':8})\n",
        "plt.tight_layout()"
      ],
      "metadata": {
        "colab": {
          "base_uri": "https://localhost:8080/",
          "height": 614
        },
        "id": "7qXKqe2nnTqn",
        "outputId": "7f2445d3-8dab-43cc-a774-7c612c70412f"
      },
      "execution_count": null,
      "outputs": [
        {
          "output_type": "stream",
          "name": "stderr",
          "text": [
            "/usr/local/lib/python3.7/dist-packages/seaborn/distributions.py:2619: FutureWarning: `distplot` is a deprecated function and will be removed in a future version. Please adapt your code to use either `displot` (a figure-level function with similar flexibility) or `histplot` (an axes-level function for histograms).\n",
            "  warnings.warn(msg, FutureWarning)\n",
            "/usr/local/lib/python3.7/dist-packages/seaborn/_decorators.py:43: FutureWarning: Pass the following variable as a keyword arg: x. From version 0.12, the only valid positional argument will be `data`, and passing other arguments without an explicit keyword will result in an error or misinterpretation.\n",
            "  FutureWarning\n",
            "/usr/local/lib/python3.7/dist-packages/seaborn/_core.py:1326: UserWarning: Vertical orientation ignored with only `x` specified.\n",
            "  warnings.warn(single_var_warning.format(\"Vertical\", \"x\"))\n"
          ]
        },
        {
          "output_type": "display_data",
          "data": {
            "text/plain": [
              "<Figure size 960x480 with 2 Axes>"
            ],
            "image/png": "[encoded data removed]"
          },
          "metadata": {
            "needs_background": "light"
          }
        }
      ]
    },
    {
      "cell_type": "code",
      "source": [
        "df.Glucose = df.Glucose.replace(0,df.Glucose.mean())\n",
        "df.head()"
      ],
      "metadata": {
        "colab": {
          "base_uri": "https://localhost:8080/",
          "height": 206
        },
        "id": "Sei-0nN4nZDy",
        "outputId": "577b788d-1755-4fb3-bd41-6bb0857eb6ea"
      },
      "execution_count": null,
      "outputs": [
        {
          "output_type": "execute_result",
          "data": {
            "text/plain": [
              "   Pregnancies  Glucose  BloodPressure  SkinThickness  Insulin    BMI   DPF  Age  Outcome\n",
              "0            6  148.000             72             35        0 33.600 0.627   50        1\n",
              "1            1   85.000             66             29        0 26.600 0.351   31        0\n",
              "2            8  183.000             64              0        0 23.300 0.672   32        1\n",
              "3            1   89.000             66             23       94 28.100 0.167   21        0\n",
              "4            0  137.000             40             35      168 43.100 2.288   33        1"
            ],
            "text/html": [
              "\n",
              "  <div id=\"df-f466f9e2-96e9-46f2-a043-f4c0607dce3f\">\n",
              "    <div class=\"colab-df-container\">\n",
              "      <div>\n",
              "<style scoped>\n",
              "    .dataframe tbody tr th:only-of-type {\n",
              "        vertical-align: middle;\n",
              "    }\n",
              "\n",
              "    .dataframe tbody tr th {\n",
              "        vertical-align: top;\n",
              "    }\n",
              "\n",
              "    .dataframe thead th {\n",
              "        text-align: right;\n",
              "    }\n",
              "</style>\n",
              "<table border=\"1\" class=\"dataframe\">\n",
              "  <thead>\n",
              "    <tr style=\"text-align: right;\">\n",
              "      <th></th>\n",
              "      <th>Pregnancies</th>\n",
              "      <th>Glucose</th>\n",
              "      <th>BloodPressure</th>\n",
              "      <th>SkinThickness</th>\n",
              "      <th>Insulin</th>\n",
              "      <th>BMI</th>\n",
              "      <th>DPF</th>\n",
              "      <th>Age</th>\n",
              "      <th>Outcome</th>\n",
              "    </tr>\n",
              "  </thead>\n",
              "  <tbody>\n",
              "    <tr>\n",
              "      <th>0</th>\n",
              "      <td>6</td>\n",
              "      <td>148.000</td>\n",
              "      <td>72</td>\n",
              "      <td>35</td>\n",
              "      <td>0</td>\n",
              "      <td>33.600</td>\n",
              "      <td>0.627</td>\n",
              "      <td>50</td>\n",
              "      <td>1</td>\n",
              "    </tr>\n",
              "    <tr>\n",
              "      <th>1</th>\n",
              "      <td>1</td>\n",
              "      <td>85.000</td>\n",
              "      <td>66</td>\n",
              "      <td>29</td>\n",
              "      <td>0</td>\n",
              "      <td>26.600</td>\n",
              "      <td>0.351</td>\n",
              "      <td>31</td>\n",
              "      <td>0</td>\n",
              "    </tr>\n",
              "    <tr>\n",
              "      <th>2</th>\n",
              "      <td>8</td>\n",
              "      <td>183.000</td>\n",
              "      <td>64</td>\n",
              "      <td>0</td>\n",
              "      <td>0</td>\n",
              "      <td>23.300</td>\n",
              "      <td>0.672</td>\n",
              "      <td>32</td>\n",
              "      <td>1</td>\n",
              "    </tr>\n",
              "    <tr>\n",
              "      <th>3</th>\n",
              "      <td>1</td>\n",
              "      <td>89.000</td>\n",
              "      <td>66</td>\n",
              "      <td>23</td>\n",
              "      <td>94</td>\n",
              "      <td>28.100</td>\n",
              "      <td>0.167</td>\n",
              "      <td>21</td>\n",
              "      <td>0</td>\n",
              "    </tr>\n",
              "    <tr>\n",
              "      <th>4</th>\n",
              "      <td>0</td>\n",
              "      <td>137.000</td>\n",
              "      <td>40</td>\n",
              "      <td>35</td>\n",
              "      <td>168</td>\n",
              "      <td>43.100</td>\n",
              "      <td>2.288</td>\n",
              "      <td>33</td>\n",
              "      <td>1</td>\n",
              "    </tr>\n",
              "  </tbody>\n",
              "</table>\n",
              "</div>\n",
              "      <button class=\"colab-df-convert\" onclick=\"convertToInteractive('df-f466f9e2-96e9-46f2-a043-f4c0607dce3f')\"\n",
              "              title=\"Convert this dataframe to an interactive table.\"\n",
              "              style=\"display:none;\">\n",
              "        \n",
              "  <svg xmlns=\"http://www.w3.org/2000/svg\" height=\"24px\"viewBox=\"0 0 24 24\"\n",
              "       width=\"24px\">\n",
              "    <path d=\"M0 0h24v24H0V0z\" fill=\"none\"/>\n",
              "    <path d=\"M18.56 5.44l.94 2.06.94-2.06 2.06-.94-2.06-.94-.94-2.06-.94 2.06-2.06.94zm-11 1L8.5 8.5l.94-2.06 2.06-.94-2.06-.94L8.5 2.5l-.94 2.06-2.06.94zm10 10l.94 2.06.94-2.06 2.06-.94-2.06-.94-.94-2.06-.94 2.06-2.06.94z\"/><path d=\"M17.41 7.96l-1.37-1.37c-.4-.4-.92-.59-1.43-.59-.52 0-1.04.2-1.43.59L10.3 9.45l-7.72 7.72c-.78.78-.78 2.05 0 2.83L4 21.41c.39.39.9.59 1.41.59.51 0 1.02-.2 1.41-.59l7.78-7.78 2.81-2.81c.8-.78.8-2.07 0-2.86zM5.41 20L4 18.59l7.72-7.72 1.47 1.35L5.41 20z\"/>\n",
              "  </svg>\n",
              "      </button>\n",
              "      \n",
              "  <style>\n",
              "    .colab-df-container {\n",
              "      display:flex;\n",
              "      flex-wrap:wrap;\n",
              "      gap: 12px;\n",
              "    }\n",
              "\n",
              "    .colab-df-convert {\n",
              "      background-color: #E8F0FE;\n",
              "      border: none;\n",
              "      border-radius: 50%;\n",
              "      cursor: pointer;\n",
              "      display: none;\n",
              "      fill: #1967D2;\n",
              "      height: 32px;\n",
              "      padding: 0 0 0 0;\n",
              "      width: 32px;\n",
              "    }\n",
              "\n",
              "    .colab-df-convert:hover {\n",
              "      background-color: #E2EBFA;\n",
              "      box-shadow: 0px 1px 2px rgba(60, 64, 67, 0.3), 0px 1px 3px 1px rgba(60, 64, 67, 0.15);\n",
              "      fill: #174EA6;\n",
              "    }\n",
              "\n",
              "    [theme=dark] .colab-df-convert {\n",
              "      background-color: #3B4455;\n",
              "      fill: #D2E3FC;\n",
              "    }\n",
              "\n",
              "    [theme=dark] .colab-df-convert:hover {\n",
              "      background-color: #434B5C;\n",
              "      box-shadow: 0px 1px 3px 1px rgba(0, 0, 0, 0.15);\n",
              "      filter: drop-shadow(0px 1px 2px rgba(0, 0, 0, 0.3));\n",
              "      fill: #FFFFFF;\n",
              "    }\n",
              "  </style>\n",
              "\n",
              "      <script>\n",
              "        const buttonEl =\n",
              "          document.querySelector('#df-f466f9e2-96e9-46f2-a043-f4c0607dce3f button.colab-df-convert');\n",
              "        buttonEl.style.display =\n",
              "          google.colab.kernel.accessAllowed ? 'block' : 'none';\n",
              "\n",
              "        async function convertToInteractive(key) {\n",
              "          const element = document.querySelector('#df-f466f9e2-96e9-46f2-a043-f4c0607dce3f');\n",
              "          const dataTable =\n",
              "            await google.colab.kernel.invokeFunction('convertToInteractive',\n",
              "                                                     [key], {});\n",
              "          if (!dataTable) return;\n",
              "\n",
              "          const docLinkHtml = 'Like what you see? Visit the ' +\n",
              "            '<a target=\"_blank\" href=https://colab.research.google.com/notebooks/data_table.ipynb>data table notebook</a>'\n",
              "            + ' to learn more about interactive tables.';\n",
              "          element.innerHTML = '';\n",
              "          dataTable['output_type'] = 'display_data';\n",
              "          await google.colab.output.renderOutput(dataTable, element);\n",
              "          const docLink = document.createElement('div');\n",
              "          docLink.innerHTML = docLinkHtml;\n",
              "          element.appendChild(docLink);\n",
              "        }\n",
              "      </script>\n",
              "    </div>\n",
              "  </div>\n",
              "  "
            ]
          },
          "metadata": {},
          "execution_count": 17
        }
      ]
    },
    {
      "cell_type": "code",
      "source": [
        "fig,axes = plt.subplots(nrows=1,ncols=2,dpi=120,figsize = (8,4))\n",
        "\n",
        "plot00=sns.distplot(df['Glucose'],ax=axes[0],color='r')\n",
        "axes[0].set_title('Distribution of Glucose',fontdict={'fontsize':8})\n",
        "axes[0].set_xlabel('Glucose Class',fontdict={'fontsize':7})\n",
        "axes[0].set_ylabel('Frequency/Distrubtion',fontdict={'fontsize':7})\n",
        "plt.tight_layout()\n",
        "\n",
        "\n",
        "plot01=sns.boxplot('Glucose',data=df,ax=axes[1],orient = 'v',color='y')\n",
        "axes[1].set_title('Five Point Summary',fontdict={'fontsize':8})\n",
        "plt.tight_layout()"
      ],
      "metadata": {
        "colab": {
          "base_uri": "https://localhost:8080/",
          "height": 614
        },
        "id": "cpdqATglnc3o",
        "outputId": "75c68fbe-d8d5-4191-f802-e3696cc80afb"
      },
      "execution_count": null,
      "outputs": [
        {
          "output_type": "stream",
          "name": "stderr",
          "text": [
            "/usr/local/lib/python3.7/dist-packages/seaborn/distributions.py:2619: FutureWarning: `distplot` is a deprecated function and will be removed in a future version. Please adapt your code to use either `displot` (a figure-level function with similar flexibility) or `histplot` (an axes-level function for histograms).\n",
            "  warnings.warn(msg, FutureWarning)\n",
            "/usr/local/lib/python3.7/dist-packages/seaborn/_decorators.py:43: FutureWarning: Pass the following variable as a keyword arg: x. From version 0.12, the only valid positional argument will be `data`, and passing other arguments without an explicit keyword will result in an error or misinterpretation.\n",
            "  FutureWarning\n",
            "/usr/local/lib/python3.7/dist-packages/seaborn/_core.py:1326: UserWarning: Vertical orientation ignored with only `x` specified.\n",
            "  warnings.warn(single_var_warning.format(\"Vertical\", \"x\"))\n"
          ]
        },
        {
          "output_type": "display_data",
          "data": {
            "text/plain": [
              "<Figure size 960x480 with 2 Axes>"
            ],
            "image/png": "[encoded data removed]"
          },
          "metadata": {
            "needs_background": "light"
          }
        }
      ]
    },
    {
      "cell_type": "code",
      "source": [
        "df.BloodPressure.describe()"
      ],
      "metadata": {
        "colab": {
          "base_uri": "https://localhost:8080/"
        },
        "id": "BhK7DFRsnh2O",
        "outputId": "3bdc0894-e62f-4062-b9a2-c30f6e0f7bdd"
      },
      "execution_count": null,
      "outputs": [
        {
          "output_type": "execute_result",
          "data": {
            "text/plain": [
              "count   768.000\n",
              "mean     69.105\n",
              "std      19.356\n",
              "min       0.000\n",
              "25%      62.000\n",
              "50%      72.000\n",
              "75%      80.000\n",
              "max     122.000\n",
              "Name: BloodPressure, dtype: float64"
            ]
          },
          "metadata": {},
          "execution_count": 19
        }
      ]
    },
    {
      "cell_type": "code",
      "source": [
        "fig,axes = plt.subplots(nrows=1,ncols=2,dpi=120,figsize = (8,4))\n",
        "\n",
        "plot00=sns.distplot(df['BloodPressure'],ax=axes[0],color='m')\n",
        "axes[0].set_title('Distribution of BloodPressure',fontdict={'fontsize':8})\n",
        "axes[0].set_xlabel('BloodPressure Class',fontdict={'fontsize':7})\n",
        "axes[0].set_ylabel('Frequency/Distrubtion',fontdict={'fontsize':7})\n",
        "plt.tight_layout()\n",
        "\n",
        "\n",
        "plot01=sns.boxplot('BloodPressure',data=df,ax=axes[1],orient = 'v',color='c')\n",
        "axes[1].set_title('Five Point Summary',fontdict={'fontsize':8})\n",
        "plt.tight_layout()"
      ],
      "metadata": {
        "colab": {
          "base_uri": "https://localhost:8080/",
          "height": 614
        },
        "id": "_Jr0p89lnlJ_",
        "outputId": "33227c81-e42d-4aba-81ab-f5c98e620406"
      },
      "execution_count": null,
      "outputs": [
        {
          "output_type": "stream",
          "name": "stderr",
          "text": [
            "/usr/local/lib/python3.7/dist-packages/seaborn/distributions.py:2619: FutureWarning: `distplot` is a deprecated function and will be removed in a future version. Please adapt your code to use either `displot` (a figure-level function with similar flexibility) or `histplot` (an axes-level function for histograms).\n",
            "  warnings.warn(msg, FutureWarning)\n",
            "/usr/local/lib/python3.7/dist-packages/seaborn/_decorators.py:43: FutureWarning: Pass the following variable as a keyword arg: x. From version 0.12, the only valid positional argument will be `data`, and passing other arguments without an explicit keyword will result in an error or misinterpretation.\n",
            "  FutureWarning\n",
            "/usr/local/lib/python3.7/dist-packages/seaborn/_core.py:1326: UserWarning: Vertical orientation ignored with only `x` specified.\n",
            "  warnings.warn(single_var_warning.format(\"Vertical\", \"x\"))\n"
          ]
        },
        {
          "output_type": "display_data",
          "data": {
            "text/plain": [
              "<Figure size 960x480 with 2 Axes>"
            ],
            "image/png": "[encoded data removed]"
          },
          "metadata": {
            "needs_background": "light"
          }
        }
      ]
    },
    {
      "cell_type": "code",
      "source": [
        "df.BloodPressure = df.BloodPressure.replace(0,df.BloodPressure.median())\n",
        "df.head()"
      ],
      "metadata": {
        "colab": {
          "base_uri": "https://localhost:8080/",
          "height": 206
        },
        "id": "N-U8WI6Gno9m",
        "outputId": "25c28c01-0a78-467e-c0d5-701ceb803818"
      },
      "execution_count": null,
      "outputs": [
        {
          "output_type": "execute_result",
          "data": {
            "text/plain": [
              "   Pregnancies  Glucose  BloodPressure  SkinThickness  Insulin    BMI   DPF  Age  Outcome\n",
              "0            6  148.000             72             35        0 33.600 0.627   50        1\n",
              "1            1   85.000             66             29        0 26.600 0.351   31        0\n",
              "2            8  183.000             64              0        0 23.300 0.672   32        1\n",
              "3            1   89.000             66             23       94 28.100 0.167   21        0\n",
              "4            0  137.000             40             35      168 43.100 2.288   33        1"
            ],
            "text/html": [
              "\n",
              "  <div id=\"df-3587b0f0-5011-4b0e-90a5-90de55537e12\">\n",
              "    <div class=\"colab-df-container\">\n",
              "      <div>\n",
              "<style scoped>\n",
              "    .dataframe tbody tr th:only-of-type {\n",
              "        vertical-align: middle;\n",
              "    }\n",
              "\n",
              "    .dataframe tbody tr th {\n",
              "        vertical-align: top;\n",
              "    }\n",
              "\n",
              "    .dataframe thead th {\n",
              "        text-align: right;\n",
              "    }\n",
              "</style>\n",
              "<table border=\"1\" class=\"dataframe\">\n",
              "  <thead>\n",
              "    <tr style=\"text-align: right;\">\n",
              "      <th></th>\n",
              "      <th>Pregnancies</th>\n",
              "      <th>Glucose</th>\n",
              "      <th>BloodPressure</th>\n",
              "      <th>SkinThickness</th>\n",
              "      <th>Insulin</th>\n",
              "      <th>BMI</th>\n",
              "      <th>DPF</th>\n",
              "      <th>Age</th>\n",
              "      <th>Outcome</th>\n",
              "    </tr>\n",
              "  </thead>\n",
              "  <tbody>\n",
              "    <tr>\n",
              "      <th>0</th>\n",
              "      <td>6</td>\n",
              "      <td>148.000</td>\n",
              "      <td>72</td>\n",
              "      <td>35</td>\n",
              "      <td>0</td>\n",
              "      <td>33.600</td>\n",
              "      <td>0.627</td>\n",
              "      <td>50</td>\n",
              "      <td>1</td>\n",
              "    </tr>\n",
              "    <tr>\n",
              "      <th>1</th>\n",
              "      <td>1</td>\n",
              "      <td>85.000</td>\n",
              "      <td>66</td>\n",
              "      <td>29</td>\n",
              "      <td>0</td>\n",
              "      <td>26.600</td>\n",
              "      <td>0.351</td>\n",
              "      <td>31</td>\n",
              "      <td>0</td>\n",
              "    </tr>\n",
              "    <tr>\n",
              "      <th>2</th>\n",
              "      <td>8</td>\n",
              "      <td>183.000</td>\n",
              "      <td>64</td>\n",
              "      <td>0</td>\n",
              "      <td>0</td>\n",
              "      <td>23.300</td>\n",
              "      <td>0.672</td>\n",
              "      <td>32</td>\n",
              "      <td>1</td>\n",
              "    </tr>\n",
              "    <tr>\n",
              "      <th>3</th>\n",
              "      <td>1</td>\n",
              "      <td>89.000</td>\n",
              "      <td>66</td>\n",
              "      <td>23</td>\n",
              "      <td>94</td>\n",
              "      <td>28.100</td>\n",
              "      <td>0.167</td>\n",
              "      <td>21</td>\n",
              "      <td>0</td>\n",
              "    </tr>\n",
              "    <tr>\n",
              "      <th>4</th>\n",
              "      <td>0</td>\n",
              "      <td>137.000</td>\n",
              "      <td>40</td>\n",
              "      <td>35</td>\n",
              "      <td>168</td>\n",
              "      <td>43.100</td>\n",
              "      <td>2.288</td>\n",
              "      <td>33</td>\n",
              "      <td>1</td>\n",
              "    </tr>\n",
              "  </tbody>\n",
              "</table>\n",
              "</div>\n",
              "      <button class=\"colab-df-convert\" onclick=\"convertToInteractive('df-3587b0f0-5011-4b0e-90a5-90de55537e12')\"\n",
              "              title=\"Convert this dataframe to an interactive table.\"\n",
              "              style=\"display:none;\">\n",
              "        \n",
              "  <svg xmlns=\"http://www.w3.org/2000/svg\" height=\"24px\"viewBox=\"0 0 24 24\"\n",
              "       width=\"24px\">\n",
              "    <path d=\"M0 0h24v24H0V0z\" fill=\"none\"/>\n",
              "    <path d=\"M18.56 5.44l.94 2.06.94-2.06 2.06-.94-2.06-.94-.94-2.06-.94 2.06-2.06.94zm-11 1L8.5 8.5l.94-2.06 2.06-.94-2.06-.94L8.5 2.5l-.94 2.06-2.06.94zm10 10l.94 2.06.94-2.06 2.06-.94-2.06-.94-.94-2.06-.94 2.06-2.06.94z\"/><path d=\"M17.41 7.96l-1.37-1.37c-.4-.4-.92-.59-1.43-.59-.52 0-1.04.2-1.43.59L10.3 9.45l-7.72 7.72c-.78.78-.78 2.05 0 2.83L4 21.41c.39.39.9.59 1.41.59.51 0 1.02-.2 1.41-.59l7.78-7.78 2.81-2.81c.8-.78.8-2.07 0-2.86zM5.41 20L4 18.59l7.72-7.72 1.47 1.35L5.41 20z\"/>\n",
              "  </svg>\n",
              "      </button>\n",
              "      \n",
              "  <style>\n",
              "    .colab-df-container {\n",
              "      display:flex;\n",
              "      flex-wrap:wrap;\n",
              "      gap: 12px;\n",
              "    }\n",
              "\n",
              "    .colab-df-convert {\n",
              "      background-color: #E8F0FE;\n",
              "      border: none;\n",
              "      border-radius: 50%;\n",
              "      cursor: pointer;\n",
              "      display: none;\n",
              "      fill: #1967D2;\n",
              "      height: 32px;\n",
              "      padding: 0 0 0 0;\n",
              "      width: 32px;\n",
              "    }\n",
              "\n",
              "    .colab-df-convert:hover {\n",
              "      background-color: #E2EBFA;\n",
              "      box-shadow: 0px 1px 2px rgba(60, 64, 67, 0.3), 0px 1px 3px 1px rgba(60, 64, 67, 0.15);\n",
              "      fill: #174EA6;\n",
              "    }\n",
              "\n",
              "    [theme=dark] .colab-df-convert {\n",
              "      background-color: #3B4455;\n",
              "      fill: #D2E3FC;\n",
              "    }\n",
              "\n",
              "    [theme=dark] .colab-df-convert:hover {\n",
              "      background-color: #434B5C;\n",
              "      box-shadow: 0px 1px 3px 1px rgba(0, 0, 0, 0.15);\n",
              "      filter: drop-shadow(0px 1px 2px rgba(0, 0, 0, 0.3));\n",
              "      fill: #FFFFFF;\n",
              "    }\n",
              "  </style>\n",
              "\n",
              "      <script>\n",
              "        const buttonEl =\n",
              "          document.querySelector('#df-3587b0f0-5011-4b0e-90a5-90de55537e12 button.colab-df-convert');\n",
              "        buttonEl.style.display =\n",
              "          google.colab.kernel.accessAllowed ? 'block' : 'none';\n",
              "\n",
              "        async function convertToInteractive(key) {\n",
              "          const element = document.querySelector('#df-3587b0f0-5011-4b0e-90a5-90de55537e12');\n",
              "          const dataTable =\n",
              "            await google.colab.kernel.invokeFunction('convertToInteractive',\n",
              "                                                     [key], {});\n",
              "          if (!dataTable) return;\n",
              "\n",
              "          const docLinkHtml = 'Like what you see? Visit the ' +\n",
              "            '<a target=\"_blank\" href=https://colab.research.google.com/notebooks/data_table.ipynb>data table notebook</a>'\n",
              "            + ' to learn more about interactive tables.';\n",
              "          element.innerHTML = '';\n",
              "          dataTable['output_type'] = 'display_data';\n",
              "          await google.colab.output.renderOutput(dataTable, element);\n",
              "          const docLink = document.createElement('div');\n",
              "          docLink.innerHTML = docLinkHtml;\n",
              "          element.appendChild(docLink);\n",
              "        }\n",
              "      </script>\n",
              "    </div>\n",
              "  </div>\n",
              "  "
            ]
          },
          "metadata": {},
          "execution_count": 21
        }
      ]
    },
    {
      "cell_type": "code",
      "source": [
        "df  = std_based('BloodPressure',df)"
      ],
      "metadata": {
        "id": "eC3QIZmzntvo"
      },
      "execution_count": null,
      "outputs": []
    },
    {
      "cell_type": "code",
      "source": [
        "fig,axes = plt.subplots(nrows=1,ncols=2,dpi=120,figsize = (8,4))\n",
        "\n",
        "plot00=sns.distplot(df['BloodPressure'],ax=axes[0],color='b')\n",
        "axes[0].set_title('Distribution of BloodPressure',fontdict={'fontsize':8})\n",
        "axes[0].set_xlabel('BloodPressure Class',fontdict={'fontsize':7})\n",
        "axes[0].set_ylabel('Frequency/Distrubtion',fontdict={'fontsize':7})\n",
        "plt.tight_layout()\n",
        "\n",
        "\n",
        "plot01=sns.boxplot('BloodPressure',data=df,ax=axes[1],orient = 'v',color='c')\n",
        "axes[1].set_title('Five Point Summary',fontdict={'fontsize':8})\n",
        "plt.tight_layout()"
      ],
      "metadata": {
        "colab": {
          "base_uri": "https://localhost:8080/",
          "height": 614
        },
        "id": "EH9yBnrJnyu5",
        "outputId": "ee906a6f-d578-44dc-95e6-b8ea8ce11e0f"
      },
      "execution_count": null,
      "outputs": [
        {
          "output_type": "stream",
          "name": "stderr",
          "text": [
            "/usr/local/lib/python3.7/dist-packages/seaborn/distributions.py:2619: FutureWarning: `distplot` is a deprecated function and will be removed in a future version. Please adapt your code to use either `displot` (a figure-level function with similar flexibility) or `histplot` (an axes-level function for histograms).\n",
            "  warnings.warn(msg, FutureWarning)\n",
            "/usr/local/lib/python3.7/dist-packages/seaborn/_decorators.py:43: FutureWarning: Pass the following variable as a keyword arg: x. From version 0.12, the only valid positional argument will be `data`, and passing other arguments without an explicit keyword will result in an error or misinterpretation.\n",
            "  FutureWarning\n",
            "/usr/local/lib/python3.7/dist-packages/seaborn/_core.py:1326: UserWarning: Vertical orientation ignored with only `x` specified.\n",
            "  warnings.warn(single_var_warning.format(\"Vertical\", \"x\"))\n"
          ]
        },
        {
          "output_type": "display_data",
          "data": {
            "text/plain": [
              "<Figure size 960x480 with 2 Axes>"
            ],
            "image/png": "[encoded data removed]"
          },
          "metadata": {
            "needs_background": "light"
          }
        }
      ]
    },
    {
      "cell_type": "code",
      "source": [
        "df.SkinThickness.describe()"
      ],
      "metadata": {
        "colab": {
          "base_uri": "https://localhost:8080/"
        },
        "id": "kcTrm327n04V",
        "outputId": "e59c6fe3-2836-4c9a-aa7f-1692b5a37eda"
      },
      "execution_count": null,
      "outputs": [
        {
          "output_type": "execute_result",
          "data": {
            "text/plain": [
              "count   760.000\n",
              "mean     20.489\n",
              "std      15.938\n",
              "min       0.000\n",
              "25%       0.000\n",
              "50%      23.000\n",
              "75%      32.000\n",
              "max      99.000\n",
              "Name: SkinThickness, dtype: float64"
            ]
          },
          "metadata": {},
          "execution_count": 24
        }
      ]
    },
    {
      "cell_type": "code",
      "source": [
        "fig,axes = plt.subplots(nrows=1,ncols=2,dpi=120,figsize = (8,4))\n",
        "\n",
        "plot00=sns.distplot(df['SkinThickness'],ax=axes[0],color='b')\n",
        "axes[0].set_title('Distribution of SkinThickness',fontdict={'fontsize':8})\n",
        "axes[0].set_xlabel('SkinThickness Class',fontdict={'fontsize':7})\n",
        "axes[0].set_ylabel('Frequency/Distrubtion',fontdict={'fontsize':7})\n",
        "plt.tight_layout()\n",
        "\n",
        "\n",
        "plot01=sns.boxplot('SkinThickness',data=df,ax=axes[1],orient = 'v',color='m')\n",
        "axes[1].set_title('Five Point Summary',fontdict={'fontsize':8})\n",
        "plt.tight_layout()"
      ],
      "metadata": {
        "colab": {
          "base_uri": "https://localhost:8080/",
          "height": 614
        },
        "id": "XKncLz97n4Pn",
        "outputId": "21227184-a16b-4765-da9b-6a749b1a9610"
      },
      "execution_count": null,
      "outputs": [
        {
          "output_type": "stream",
          "name": "stderr",
          "text": [
            "/usr/local/lib/python3.7/dist-packages/seaborn/distributions.py:2619: FutureWarning: `distplot` is a deprecated function and will be removed in a future version. Please adapt your code to use either `displot` (a figure-level function with similar flexibility) or `histplot` (an axes-level function for histograms).\n",
            "  warnings.warn(msg, FutureWarning)\n",
            "/usr/local/lib/python3.7/dist-packages/seaborn/_decorators.py:43: FutureWarning: Pass the following variable as a keyword arg: x. From version 0.12, the only valid positional argument will be `data`, and passing other arguments without an explicit keyword will result in an error or misinterpretation.\n",
            "  FutureWarning\n",
            "/usr/local/lib/python3.7/dist-packages/seaborn/_core.py:1326: UserWarning: Vertical orientation ignored with only `x` specified.\n",
            "  warnings.warn(single_var_warning.format(\"Vertical\", \"x\"))\n"
          ]
        },
        {
          "output_type": "display_data",
          "data": {
            "text/plain": [
              "<Figure size 960x480 with 2 Axes>"
            ],
            "image/png": "[encoded data removed]"
          },
          "metadata": {
            "needs_background": "light"
          }
        }
      ]
    },
    {
      "cell_type": "code",
      "source": [
        "df.SkinThickness = df.SkinThickness.replace(0,df.SkinThickness.mean())\n",
        "df.head()"
      ],
      "metadata": {
        "colab": {
          "base_uri": "https://localhost:8080/",
          "height": 206
        },
        "id": "1VuegkuTn8GZ",
        "outputId": "a843d5f8-4d21-441c-97ec-c8e5fedec964"
      },
      "execution_count": null,
      "outputs": [
        {
          "output_type": "execute_result",
          "data": {
            "text/plain": [
              "   Pregnancies  Glucose  BloodPressure  SkinThickness  Insulin    BMI   DPF  Age  Outcome\n",
              "0            6  148.000             72         35.000        0 33.600 0.627   50        1\n",
              "1            1   85.000             66         29.000        0 26.600 0.351   31        0\n",
              "2            8  183.000             64         20.489        0 23.300 0.672   32        1\n",
              "3            1   89.000             66         23.000       94 28.100 0.167   21        0\n",
              "4            0  137.000             40         35.000      168 43.100 2.288   33        1"
            ],
            "text/html": [
              "\n",
              "  <div id=\"df-defcce18-388b-4f08-aa40-1560a39610cb\">\n",
              "    <div class=\"colab-df-container\">\n",
              "      <div>\n",
              "<style scoped>\n",
              "    .dataframe tbody tr th:only-of-type {\n",
              "        vertical-align: middle;\n",
              "    }\n",
              "\n",
              "    .dataframe tbody tr th {\n",
              "        vertical-align: top;\n",
              "    }\n",
              "\n",
              "    .dataframe thead th {\n",
              "        text-align: right;\n",
              "    }\n",
              "</style>\n",
              "<table border=\"1\" class=\"dataframe\">\n",
              "  <thead>\n",
              "    <tr style=\"text-align: right;\">\n",
              "      <th></th>\n",
              "      <th>Pregnancies</th>\n",
              "      <th>Glucose</th>\n",
              "      <th>BloodPressure</th>\n",
              "      <th>SkinThickness</th>\n",
              "      <th>Insulin</th>\n",
              "      <th>BMI</th>\n",
              "      <th>DPF</th>\n",
              "      <th>Age</th>\n",
              "      <th>Outcome</th>\n",
              "    </tr>\n",
              "  </thead>\n",
              "  <tbody>\n",
              "    <tr>\n",
              "      <th>0</th>\n",
              "      <td>6</td>\n",
              "      <td>148.000</td>\n",
              "      <td>72</td>\n",
              "      <td>35.000</td>\n",
              "      <td>0</td>\n",
              "      <td>33.600</td>\n",
              "      <td>0.627</td>\n",
              "      <td>50</td>\n",
              "      <td>1</td>\n",
              "    </tr>\n",
              "    <tr>\n",
              "      <th>1</th>\n",
              "      <td>1</td>\n",
              "      <td>85.000</td>\n",
              "      <td>66</td>\n",
              "      <td>29.000</td>\n",
              "      <td>0</td>\n",
              "      <td>26.600</td>\n",
              "      <td>0.351</td>\n",
              "      <td>31</td>\n",
              "      <td>0</td>\n",
              "    </tr>\n",
              "    <tr>\n",
              "      <th>2</th>\n",
              "      <td>8</td>\n",
              "      <td>183.000</td>\n",
              "      <td>64</td>\n",
              "      <td>20.489</td>\n",
              "      <td>0</td>\n",
              "      <td>23.300</td>\n",
              "      <td>0.672</td>\n",
              "      <td>32</td>\n",
              "      <td>1</td>\n",
              "    </tr>\n",
              "    <tr>\n",
              "      <th>3</th>\n",
              "      <td>1</td>\n",
              "      <td>89.000</td>\n",
              "      <td>66</td>\n",
              "      <td>23.000</td>\n",
              "      <td>94</td>\n",
              "      <td>28.100</td>\n",
              "      <td>0.167</td>\n",
              "      <td>21</td>\n",
              "      <td>0</td>\n",
              "    </tr>\n",
              "    <tr>\n",
              "      <th>4</th>\n",
              "      <td>0</td>\n",
              "      <td>137.000</td>\n",
              "      <td>40</td>\n",
              "      <td>35.000</td>\n",
              "      <td>168</td>\n",
              "      <td>43.100</td>\n",
              "      <td>2.288</td>\n",
              "      <td>33</td>\n",
              "      <td>1</td>\n",
              "    </tr>\n",
              "  </tbody>\n",
              "</table>\n",
              "</div>\n",
              "      <button class=\"colab-df-convert\" onclick=\"convertToInteractive('df-defcce18-388b-4f08-aa40-1560a39610cb')\"\n",
              "              title=\"Convert this dataframe to an interactive table.\"\n",
              "              style=\"display:none;\">\n",
              "        \n",
              "  <svg xmlns=\"http://www.w3.org/2000/svg\" height=\"24px\"viewBox=\"0 0 24 24\"\n",
              "       width=\"24px\">\n",
              "    <path d=\"M0 0h24v24H0V0z\" fill=\"none\"/>\n",
              "    <path d=\"M18.56 5.44l.94 2.06.94-2.06 2.06-.94-2.06-.94-.94-2.06-.94 2.06-2.06.94zm-11 1L8.5 8.5l.94-2.06 2.06-.94-2.06-.94L8.5 2.5l-.94 2.06-2.06.94zm10 10l.94 2.06.94-2.06 2.06-.94-2.06-.94-.94-2.06-.94 2.06-2.06.94z\"/><path d=\"M17.41 7.96l-1.37-1.37c-.4-.4-.92-.59-1.43-.59-.52 0-1.04.2-1.43.59L10.3 9.45l-7.72 7.72c-.78.78-.78 2.05 0 2.83L4 21.41c.39.39.9.59 1.41.59.51 0 1.02-.2 1.41-.59l7.78-7.78 2.81-2.81c.8-.78.8-2.07 0-2.86zM5.41 20L4 18.59l7.72-7.72 1.47 1.35L5.41 20z\"/>\n",
              "  </svg>\n",
              "      </button>\n",
              "      \n",
              "  <style>\n",
              "    .colab-df-container {\n",
              "      display:flex;\n",
              "      flex-wrap:wrap;\n",
              "      gap: 12px;\n",
              "    }\n",
              "\n",
              "    .colab-df-convert {\n",
              "      background-color: #E8F0FE;\n",
              "      border: none;\n",
              "      border-radius: 50%;\n",
              "      cursor: pointer;\n",
              "      display: none;\n",
              "      fill: #1967D2;\n",
              "      height: 32px;\n",
              "      padding: 0 0 0 0;\n",
              "      width: 32px;\n",
              "    }\n",
              "\n",
              "    .colab-df-convert:hover {\n",
              "      background-color: #E2EBFA;\n",
              "      box-shadow: 0px 1px 2px rgba(60, 64, 67, 0.3), 0px 1px 3px 1px rgba(60, 64, 67, 0.15);\n",
              "      fill: #174EA6;\n",
              "    }\n",
              "\n",
              "    [theme=dark] .colab-df-convert {\n",
              "      background-color: #3B4455;\n",
              "      fill: #D2E3FC;\n",
              "    }\n",
              "\n",
              "    [theme=dark] .colab-df-convert:hover {\n",
              "      background-color: #434B5C;\n",
              "      box-shadow: 0px 1px 3px 1px rgba(0, 0, 0, 0.15);\n",
              "      filter: drop-shadow(0px 1px 2px rgba(0, 0, 0, 0.3));\n",
              "      fill: #FFFFFF;\n",
              "    }\n",
              "  </style>\n",
              "\n",
              "      <script>\n",
              "        const buttonEl =\n",
              "          document.querySelector('#df-defcce18-388b-4f08-aa40-1560a39610cb button.colab-df-convert');\n",
              "        buttonEl.style.display =\n",
              "          google.colab.kernel.accessAllowed ? 'block' : 'none';\n",
              "\n",
              "        async function convertToInteractive(key) {\n",
              "          const element = document.querySelector('#df-defcce18-388b-4f08-aa40-1560a39610cb');\n",
              "          const dataTable =\n",
              "            await google.colab.kernel.invokeFunction('convertToInteractive',\n",
              "                                                     [key], {});\n",
              "          if (!dataTable) return;\n",
              "\n",
              "          const docLinkHtml = 'Like what you see? Visit the ' +\n",
              "            '<a target=\"_blank\" href=https://colab.research.google.com/notebooks/data_table.ipynb>data table notebook</a>'\n",
              "            + ' to learn more about interactive tables.';\n",
              "          element.innerHTML = '';\n",
              "          dataTable['output_type'] = 'display_data';\n",
              "          await google.colab.output.renderOutput(dataTable, element);\n",
              "          const docLink = document.createElement('div');\n",
              "          docLink.innerHTML = docLinkHtml;\n",
              "          element.appendChild(docLink);\n",
              "        }\n",
              "      </script>\n",
              "    </div>\n",
              "  </div>\n",
              "  "
            ]
          },
          "metadata": {},
          "execution_count": 26
        }
      ]
    },
    {
      "cell_type": "code",
      "source": [
        "df = std_based(\"SkinThickness\",df)"
      ],
      "metadata": {
        "id": "gCVIbdFroAZ6"
      },
      "execution_count": null,
      "outputs": []
    },
    {
      "cell_type": "code",
      "source": [
        "fig,axes = plt.subplots(nrows=1,ncols=2,dpi=120,figsize = (8,4))\n",
        "\n",
        "plot00=sns.distplot(df['SkinThickness'],ax=axes[0],color='green')\n",
        "axes[0].set_title('Distribution of SkinThickness',fontdict={'fontsize':8})\n",
        "axes[0].set_xlabel('SkinThickness Class',fontdict={'fontsize':7})\n",
        "axes[0].set_ylabel('Frequency/Distrubtion',fontdict={'fontsize':7})\n",
        "plt.tight_layout()\n",
        "\n",
        "\n",
        "plot01=sns.boxplot('SkinThickness',data=df,ax=axes[1],orient = 'v',color='m')\n",
        "axes[1].set_title('Five Point Summary',fontdict={'fontsize':8})\n",
        "plt.tight_layout()"
      ],
      "metadata": {
        "colab": {
          "base_uri": "https://localhost:8080/",
          "height": 614
        },
        "id": "O1wF52GEoDx2",
        "outputId": "229ff21b-1c70-4988-bd56-5f83334ff724"
      },
      "execution_count": null,
      "outputs": [
        {
          "output_type": "stream",
          "name": "stderr",
          "text": [
            "/usr/local/lib/python3.7/dist-packages/seaborn/distributions.py:2619: FutureWarning: `distplot` is a deprecated function and will be removed in a future version. Please adapt your code to use either `displot` (a figure-level function with similar flexibility) or `histplot` (an axes-level function for histograms).\n",
            "  warnings.warn(msg, FutureWarning)\n",
            "/usr/local/lib/python3.7/dist-packages/seaborn/_decorators.py:43: FutureWarning: Pass the following variable as a keyword arg: x. From version 0.12, the only valid positional argument will be `data`, and passing other arguments without an explicit keyword will result in an error or misinterpretation.\n",
            "  FutureWarning\n",
            "/usr/local/lib/python3.7/dist-packages/seaborn/_core.py:1326: UserWarning: Vertical orientation ignored with only `x` specified.\n",
            "  warnings.warn(single_var_warning.format(\"Vertical\", \"x\"))\n"
          ]
        },
        {
          "output_type": "display_data",
          "data": {
            "text/plain": [
              "<Figure size 960x480 with 2 Axes>"
            ],
            "image/png": "[encoded data removed]"
          },
          "metadata": {
            "needs_background": "light"
          }
        }
      ]
    },
    {
      "cell_type": "code",
      "source": [
        "df.Insulin.describe()"
      ],
      "metadata": {
        "colab": {
          "base_uri": "https://localhost:8080/"
        },
        "id": "-NmjHsqSoJA6",
        "outputId": "d894b848-1aa5-4070-f563-a0f0bdaeab84"
      },
      "execution_count": null,
      "outputs": [
        {
          "output_type": "execute_result",
          "data": {
            "text/plain": [
              "count   756.000\n",
              "mean     80.007\n",
              "std     115.798\n",
              "min       0.000\n",
              "25%       0.000\n",
              "50%      30.500\n",
              "75%     128.250\n",
              "max     846.000\n",
              "Name: Insulin, dtype: float64"
            ]
          },
          "metadata": {},
          "execution_count": 29
        }
      ]
    },
    {
      "cell_type": "code",
      "source": [
        "fig,axes = plt.subplots(nrows=1,ncols=2,dpi=120,figsize = (8,4))\n",
        "\n",
        "plot00=sns.distplot(df['Insulin'],ax=axes[0],color='b')\n",
        "axes[0].set_title('Distribution of Insulin',fontdict={'fontsize':8})\n",
        "axes[0].set_xlabel('Insulin Class',fontdict={'fontsize':7})\n",
        "axes[0].set_ylabel('Frequency/Distrubtion',fontdict={'fontsize':7})\n",
        "plt.tight_layout()\n",
        "\n",
        "\n",
        "plot01=sns.boxplot('Insulin',data=df,ax=axes[1],orient = 'v',color='c')\n",
        "axes[1].set_title('Five Point Summary',fontdict={'fontsize':8})\n",
        "plt.tight_layout()"
      ],
      "metadata": {
        "colab": {
          "base_uri": "https://localhost:8080/",
          "height": 614
        },
        "id": "FqCFBGRJoNGp",
        "outputId": "da9fc1ec-808f-4f00-b4d1-cad4a38c9916"
      },
      "execution_count": null,
      "outputs": [
        {
          "output_type": "stream",
          "name": "stderr",
          "text": [
            "/usr/local/lib/python3.7/dist-packages/seaborn/distributions.py:2619: FutureWarning: `distplot` is a deprecated function and will be removed in a future version. Please adapt your code to use either `displot` (a figure-level function with similar flexibility) or `histplot` (an axes-level function for histograms).\n",
            "  warnings.warn(msg, FutureWarning)\n",
            "/usr/local/lib/python3.7/dist-packages/seaborn/_decorators.py:43: FutureWarning: Pass the following variable as a keyword arg: x. From version 0.12, the only valid positional argument will be `data`, and passing other arguments without an explicit keyword will result in an error or misinterpretation.\n",
            "  FutureWarning\n",
            "/usr/local/lib/python3.7/dist-packages/seaborn/_core.py:1326: UserWarning: Vertical orientation ignored with only `x` specified.\n",
            "  warnings.warn(single_var_warning.format(\"Vertical\", \"x\"))\n"
          ]
        },
        {
          "output_type": "display_data",
          "data": {
            "text/plain": [
              "<Figure size 960x480 with 2 Axes>"
            ],
            "image/png": "[encoded data removed]"
          },
          "metadata": {
            "needs_background": "light"
          }
        }
      ]
    },
    {
      "cell_type": "code",
      "source": [
        "df.Insulin = df.Insulin.replace(0,df.Insulin.median())\n",
        "df.head()"
      ],
      "metadata": {
        "colab": {
          "base_uri": "https://localhost:8080/",
          "height": 206
        },
        "id": "AaKCcZiLoRQJ",
        "outputId": "4de68749-d555-45d5-bb30-46d8eac8609e"
      },
      "execution_count": null,
      "outputs": [
        {
          "output_type": "execute_result",
          "data": {
            "text/plain": [
              "   Pregnancies  Glucose  BloodPressure  SkinThickness  Insulin    BMI   DPF  Age  Outcome\n",
              "0            6  148.000             72         35.000   30.500 33.600 0.627   50        1\n",
              "1            1   85.000             66         29.000   30.500 26.600 0.351   31        0\n",
              "2            8  183.000             64         20.489   30.500 23.300 0.672   32        1\n",
              "3            1   89.000             66         23.000   94.000 28.100 0.167   21        0\n",
              "4            0  137.000             40         35.000  168.000 43.100 2.288   33        1"
            ],
            "text/html": [
              "\n",
              "  <div id=\"df-abee6c93-b177-473b-b371-78f66e6998a5\">\n",
              "    <div class=\"colab-df-container\">\n",
              "      <div>\n",
              "<style scoped>\n",
              "    .dataframe tbody tr th:only-of-type {\n",
              "        vertical-align: middle;\n",
              "    }\n",
              "\n",
              "    .dataframe tbody tr th {\n",
              "        vertical-align: top;\n",
              "    }\n",
              "\n",
              "    .dataframe thead th {\n",
              "        text-align: right;\n",
              "    }\n",
              "</style>\n",
              "<table border=\"1\" class=\"dataframe\">\n",
              "  <thead>\n",
              "    <tr style=\"text-align: right;\">\n",
              "      <th></th>\n",
              "      <th>Pregnancies</th>\n",
              "      <th>Glucose</th>\n",
              "      <th>BloodPressure</th>\n",
              "      <th>SkinThickness</th>\n",
              "      <th>Insulin</th>\n",
              "      <th>BMI</th>\n",
              "      <th>DPF</th>\n",
              "      <th>Age</th>\n",
              "      <th>Outcome</th>\n",
              "    </tr>\n",
              "  </thead>\n",
              "  <tbody>\n",
              "    <tr>\n",
              "      <th>0</th>\n",
              "      <td>6</td>\n",
              "      <td>148.000</td>\n",
              "      <td>72</td>\n",
              "      <td>35.000</td>\n",
              "      <td>30.500</td>\n",
              "      <td>33.600</td>\n",
              "      <td>0.627</td>\n",
              "      <td>50</td>\n",
              "      <td>1</td>\n",
              "    </tr>\n",
              "    <tr>\n",
              "      <th>1</th>\n",
              "      <td>1</td>\n",
              "      <td>85.000</td>\n",
              "      <td>66</td>\n",
              "      <td>29.000</td>\n",
              "      <td>30.500</td>\n",
              "      <td>26.600</td>\n",
              "      <td>0.351</td>\n",
              "      <td>31</td>\n",
              "      <td>0</td>\n",
              "    </tr>\n",
              "    <tr>\n",
              "      <th>2</th>\n",
              "      <td>8</td>\n",
              "      <td>183.000</td>\n",
              "      <td>64</td>\n",
              "      <td>20.489</td>\n",
              "      <td>30.500</td>\n",
              "      <td>23.300</td>\n",
              "      <td>0.672</td>\n",
              "      <td>32</td>\n",
              "      <td>1</td>\n",
              "    </tr>\n",
              "    <tr>\n",
              "      <th>3</th>\n",
              "      <td>1</td>\n",
              "      <td>89.000</td>\n",
              "      <td>66</td>\n",
              "      <td>23.000</td>\n",
              "      <td>94.000</td>\n",
              "      <td>28.100</td>\n",
              "      <td>0.167</td>\n",
              "      <td>21</td>\n",
              "      <td>0</td>\n",
              "    </tr>\n",
              "    <tr>\n",
              "      <th>4</th>\n",
              "      <td>0</td>\n",
              "      <td>137.000</td>\n",
              "      <td>40</td>\n",
              "      <td>35.000</td>\n",
              "      <td>168.000</td>\n",
              "      <td>43.100</td>\n",
              "      <td>2.288</td>\n",
              "      <td>33</td>\n",
              "      <td>1</td>\n",
              "    </tr>\n",
              "  </tbody>\n",
              "</table>\n",
              "</div>\n",
              "      <button class=\"colab-df-convert\" onclick=\"convertToInteractive('df-abee6c93-b177-473b-b371-78f66e6998a5')\"\n",
              "              title=\"Convert this dataframe to an interactive table.\"\n",
              "              style=\"display:none;\">\n",
              "        \n",
              "  <svg xmlns=\"http://www.w3.org/2000/svg\" height=\"24px\"viewBox=\"0 0 24 24\"\n",
              "       width=\"24px\">\n",
              "    <path d=\"M0 0h24v24H0V0z\" fill=\"none\"/>\n",
              "    <path d=\"M18.56 5.44l.94 2.06.94-2.06 2.06-.94-2.06-.94-.94-2.06-.94 2.06-2.06.94zm-11 1L8.5 8.5l.94-2.06 2.06-.94-2.06-.94L8.5 2.5l-.94 2.06-2.06.94zm10 10l.94 2.06.94-2.06 2.06-.94-2.06-.94-.94-2.06-.94 2.06-2.06.94z\"/><path d=\"M17.41 7.96l-1.37-1.37c-.4-.4-.92-.59-1.43-.59-.52 0-1.04.2-1.43.59L10.3 9.45l-7.72 7.72c-.78.78-.78 2.05 0 2.83L4 21.41c.39.39.9.59 1.41.59.51 0 1.02-.2 1.41-.59l7.78-7.78 2.81-2.81c.8-.78.8-2.07 0-2.86zM5.41 20L4 18.59l7.72-7.72 1.47 1.35L5.41 20z\"/>\n",
              "  </svg>\n",
              "      </button>\n",
              "      \n",
              "  <style>\n",
              "    .colab-df-container {\n",
              "      display:flex;\n",
              "      flex-wrap:wrap;\n",
              "      gap: 12px;\n",
              "    }\n",
              "\n",
              "    .colab-df-convert {\n",
              "      background-color: #E8F0FE;\n",
              "      border: none;\n",
              "      border-radius: 50%;\n",
              "      cursor: pointer;\n",
              "      display: none;\n",
              "      fill: #1967D2;\n",
              "      height: 32px;\n",
              "      padding: 0 0 0 0;\n",
              "      width: 32px;\n",
              "    }\n",
              "\n",
              "    .colab-df-convert:hover {\n",
              "      background-color: #E2EBFA;\n",
              "      box-shadow: 0px 1px 2px rgba(60, 64, 67, 0.3), 0px 1px 3px 1px rgba(60, 64, 67, 0.15);\n",
              "      fill: #174EA6;\n",
              "    }\n",
              "\n",
              "    [theme=dark] .colab-df-convert {\n",
              "      background-color: #3B4455;\n",
              "      fill: #D2E3FC;\n",
              "    }\n",
              "\n",
              "    [theme=dark] .colab-df-convert:hover {\n",
              "      background-color: #434B5C;\n",
              "      box-shadow: 0px 1px 3px 1px rgba(0, 0, 0, 0.15);\n",
              "      filter: drop-shadow(0px 1px 2px rgba(0, 0, 0, 0.3));\n",
              "      fill: #FFFFFF;\n",
              "    }\n",
              "  </style>\n",
              "\n",
              "      <script>\n",
              "        const buttonEl =\n",
              "          document.querySelector('#df-abee6c93-b177-473b-b371-78f66e6998a5 button.colab-df-convert');\n",
              "        buttonEl.style.display =\n",
              "          google.colab.kernel.accessAllowed ? 'block' : 'none';\n",
              "\n",
              "        async function convertToInteractive(key) {\n",
              "          const element = document.querySelector('#df-abee6c93-b177-473b-b371-78f66e6998a5');\n",
              "          const dataTable =\n",
              "            await google.colab.kernel.invokeFunction('convertToInteractive',\n",
              "                                                     [key], {});\n",
              "          if (!dataTable) return;\n",
              "\n",
              "          const docLinkHtml = 'Like what you see? Visit the ' +\n",
              "            '<a target=\"_blank\" href=https://colab.research.google.com/notebooks/data_table.ipynb>data table notebook</a>'\n",
              "            + ' to learn more about interactive tables.';\n",
              "          element.innerHTML = '';\n",
              "          dataTable['output_type'] = 'display_data';\n",
              "          await google.colab.output.renderOutput(dataTable, element);\n",
              "          const docLink = document.createElement('div');\n",
              "          docLink.innerHTML = docLinkHtml;\n",
              "          element.appendChild(docLink);\n",
              "        }\n",
              "      </script>\n",
              "    </div>\n",
              "  </div>\n",
              "  "
            ]
          },
          "metadata": {},
          "execution_count": 31
        }
      ]
    },
    {
      "cell_type": "code",
      "source": [
        "df = std_based('Insulin',df)"
      ],
      "metadata": {
        "id": "5HO0560XoVaC"
      },
      "execution_count": null,
      "outputs": []
    },
    {
      "cell_type": "code",
      "source": [
        "fig,axes = plt.subplots(nrows=1,ncols=2,dpi=120,figsize = (8,4))\n",
        "\n",
        "plot00=sns.distplot(df['Insulin'],ax=axes[0],color='r')\n",
        "axes[0].set_title('Distribution of Insulin',fontdict={'fontsize':8})\n",
        "axes[0].set_xlabel('Insulin Class',fontdict={'fontsize':7})\n",
        "axes[0].set_ylabel('Frequency/Distrubtion',fontdict={'fontsize':7})\n",
        "plt.tight_layout()\n",
        "\n",
        "\n",
        "plot01=sns.boxplot('Insulin',data=df,ax=axes[1],orient = 'v',color='m')\n",
        "axes[1].set_title('Five Point Summary',fontdict={'fontsize':8})\n",
        "plt.tight_layout()\n"
      ],
      "metadata": {
        "colab": {
          "base_uri": "https://localhost:8080/",
          "height": 614
        },
        "id": "yH4TjT30oZQt",
        "outputId": "acb73904-1e5b-4814-e2bb-fe8893def80e"
      },
      "execution_count": null,
      "outputs": [
        {
          "output_type": "stream",
          "name": "stderr",
          "text": [
            "/usr/local/lib/python3.7/dist-packages/seaborn/distributions.py:2619: FutureWarning: `distplot` is a deprecated function and will be removed in a future version. Please adapt your code to use either `displot` (a figure-level function with similar flexibility) or `histplot` (an axes-level function for histograms).\n",
            "  warnings.warn(msg, FutureWarning)\n",
            "/usr/local/lib/python3.7/dist-packages/seaborn/_decorators.py:43: FutureWarning: Pass the following variable as a keyword arg: x. From version 0.12, the only valid positional argument will be `data`, and passing other arguments without an explicit keyword will result in an error or misinterpretation.\n",
            "  FutureWarning\n",
            "/usr/local/lib/python3.7/dist-packages/seaborn/_core.py:1326: UserWarning: Vertical orientation ignored with only `x` specified.\n",
            "  warnings.warn(single_var_warning.format(\"Vertical\", \"x\"))\n"
          ]
        },
        {
          "output_type": "display_data",
          "data": {
            "text/plain": [
              "<Figure size 960x480 with 2 Axes>"
            ],
            "image/png": "[encoded data removed]"
          },
          "metadata": {
            "needs_background": "light"
          }
        }
      ]
    },
    {
      "cell_type": "code",
      "source": [
        "df.BMI.describe()"
      ],
      "metadata": {
        "colab": {
          "base_uri": "https://localhost:8080/"
        },
        "id": "jhoshqSFodxE",
        "outputId": "4ca73dc4-4325-4ead-8256-de7d97981971"
      },
      "execution_count": null,
      "outputs": [
        {
          "output_type": "execute_result",
          "data": {
            "text/plain": [
              "count   737.000\n",
              "mean     31.690\n",
              "std       7.622\n",
              "min       0.000\n",
              "25%      27.100\n",
              "50%      32.000\n",
              "75%      36.200\n",
              "max      57.300\n",
              "Name: BMI, dtype: float64"
            ]
          },
          "metadata": {},
          "execution_count": 34
        }
      ]
    },
    {
      "cell_type": "code",
      "source": [
        "fig,axes = plt.subplots(nrows=1,ncols=2,dpi=120,figsize = (8,4))\n",
        "\n",
        "plot00=sns.distplot(df['BMI'],ax=axes[0],color='b')\n",
        "axes[0].set_title('Distribution of BMI',fontdict={'fontsize':8})\n",
        "axes[0].set_xlabel('BMI Class',fontdict={'fontsize':7})\n",
        "axes[0].set_ylabel('Frequency/Distrubtion',fontdict={'fontsize':7})\n",
        "plt.tight_layout()\n",
        "\n",
        "\n",
        "plot01=sns.boxplot('BMI',data=df,ax=axes[1],orient = 'v',color='c')\n",
        "axes[1].set_title('Five Point Summary',fontdict={'fontsize':8})\n",
        "plt.tight_layout()\n"
      ],
      "metadata": {
        "colab": {
          "base_uri": "https://localhost:8080/",
          "height": 614
        },
        "id": "aWN94hwNohcc",
        "outputId": "88d41322-6148-43c1-aef9-3b72290bcf5e"
      },
      "execution_count": null,
      "outputs": [
        {
          "output_type": "stream",
          "name": "stderr",
          "text": [
            "/usr/local/lib/python3.7/dist-packages/seaborn/distributions.py:2619: FutureWarning: `distplot` is a deprecated function and will be removed in a future version. Please adapt your code to use either `displot` (a figure-level function with similar flexibility) or `histplot` (an axes-level function for histograms).\n",
            "  warnings.warn(msg, FutureWarning)\n",
            "/usr/local/lib/python3.7/dist-packages/seaborn/_decorators.py:43: FutureWarning: Pass the following variable as a keyword arg: x. From version 0.12, the only valid positional argument will be `data`, and passing other arguments without an explicit keyword will result in an error or misinterpretation.\n",
            "  FutureWarning\n",
            "/usr/local/lib/python3.7/dist-packages/seaborn/_core.py:1326: UserWarning: Vertical orientation ignored with only `x` specified.\n",
            "  warnings.warn(single_var_warning.format(\"Vertical\", \"x\"))\n"
          ]
        },
        {
          "output_type": "display_data",
          "data": {
            "text/plain": [
              "<Figure size 960x480 with 2 Axes>"
            ],
            "image/png": "[encoded data removed]"
          },
          "metadata": {
            "needs_background": "light"
          }
        }
      ]
    },
    {
      "cell_type": "code",
      "source": [
        "df.BMI = df.BMI.replace(0,df.BMI.mean())\n",
        "df.head()"
      ],
      "metadata": {
        "colab": {
          "base_uri": "https://localhost:8080/",
          "height": 206
        },
        "id": "EGWFUpmholjg",
        "outputId": "e70f536d-9df6-44b8-a2e7-ffc81e269d39"
      },
      "execution_count": null,
      "outputs": [
        {
          "output_type": "execute_result",
          "data": {
            "text/plain": [
              "   Pregnancies  Glucose  BloodPressure  SkinThickness  Insulin    BMI   DPF  Age  Outcome\n",
              "0            6  148.000             72         35.000   30.500 33.600 0.627   50        1\n",
              "1            1   85.000             66         29.000   30.500 26.600 0.351   31        0\n",
              "2            8  183.000             64         20.489   30.500 23.300 0.672   32        1\n",
              "3            1   89.000             66         23.000   94.000 28.100 0.167   21        0\n",
              "4            0  137.000             40         35.000  168.000 43.100 2.288   33        1"
            ],
            "text/html": [
              "\n",
              "  <div id=\"df-1a98cd91-28a1-49fc-a156-e747726afb32\">\n",
              "    <div class=\"colab-df-container\">\n",
              "      <div>\n",
              "<style scoped>\n",
              "    .dataframe tbody tr th:only-of-type {\n",
              "        vertical-align: middle;\n",
              "    }\n",
              "\n",
              "    .dataframe tbody tr th {\n",
              "        vertical-align: top;\n",
              "    }\n",
              "\n",
              "    .dataframe thead th {\n",
              "        text-align: right;\n",
              "    }\n",
              "</style>\n",
              "<table border=\"1\" class=\"dataframe\">\n",
              "  <thead>\n",
              "    <tr style=\"text-align: right;\">\n",
              "      <th></th>\n",
              "      <th>Pregnancies</th>\n",
              "      <th>Glucose</th>\n",
              "      <th>BloodPressure</th>\n",
              "      <th>SkinThickness</th>\n",
              "      <th>Insulin</th>\n",
              "      <th>BMI</th>\n",
              "      <th>DPF</th>\n",
              "      <th>Age</th>\n",
              "      <th>Outcome</th>\n",
              "    </tr>\n",
              "  </thead>\n",
              "  <tbody>\n",
              "    <tr>\n",
              "      <th>0</th>\n",
              "      <td>6</td>\n",
              "      <td>148.000</td>\n",
              "      <td>72</td>\n",
              "      <td>35.000</td>\n",
              "      <td>30.500</td>\n",
              "      <td>33.600</td>\n",
              "      <td>0.627</td>\n",
              "      <td>50</td>\n",
              "      <td>1</td>\n",
              "    </tr>\n",
              "    <tr>\n",
              "      <th>1</th>\n",
              "      <td>1</td>\n",
              "      <td>85.000</td>\n",
              "      <td>66</td>\n",
              "      <td>29.000</td>\n",
              "      <td>30.500</td>\n",
              "      <td>26.600</td>\n",
              "      <td>0.351</td>\n",
              "      <td>31</td>\n",
              "      <td>0</td>\n",
              "    </tr>\n",
              "    <tr>\n",
              "      <th>2</th>\n",
              "      <td>8</td>\n",
              "      <td>183.000</td>\n",
              "      <td>64</td>\n",
              "      <td>20.489</td>\n",
              "      <td>30.500</td>\n",
              "      <td>23.300</td>\n",
              "      <td>0.672</td>\n",
              "      <td>32</td>\n",
              "      <td>1</td>\n",
              "    </tr>\n",
              "    <tr>\n",
              "      <th>3</th>\n",
              "      <td>1</td>\n",
              "      <td>89.000</td>\n",
              "      <td>66</td>\n",
              "      <td>23.000</td>\n",
              "      <td>94.000</td>\n",
              "      <td>28.100</td>\n",
              "      <td>0.167</td>\n",
              "      <td>21</td>\n",
              "      <td>0</td>\n",
              "    </tr>\n",
              "    <tr>\n",
              "      <th>4</th>\n",
              "      <td>0</td>\n",
              "      <td>137.000</td>\n",
              "      <td>40</td>\n",
              "      <td>35.000</td>\n",
              "      <td>168.000</td>\n",
              "      <td>43.100</td>\n",
              "      <td>2.288</td>\n",
              "      <td>33</td>\n",
              "      <td>1</td>\n",
              "    </tr>\n",
              "  </tbody>\n",
              "</table>\n",
              "</div>\n",
              "      <button class=\"colab-df-convert\" onclick=\"convertToInteractive('df-1a98cd91-28a1-49fc-a156-e747726afb32')\"\n",
              "              title=\"Convert this dataframe to an interactive table.\"\n",
              "              style=\"display:none;\">\n",
              "        \n",
              "  <svg xmlns=\"http://www.w3.org/2000/svg\" height=\"24px\"viewBox=\"0 0 24 24\"\n",
              "       width=\"24px\">\n",
              "    <path d=\"M0 0h24v24H0V0z\" fill=\"none\"/>\n",
              "    <path d=\"M18.56 5.44l.94 2.06.94-2.06 2.06-.94-2.06-.94-.94-2.06-.94 2.06-2.06.94zm-11 1L8.5 8.5l.94-2.06 2.06-.94-2.06-.94L8.5 2.5l-.94 2.06-2.06.94zm10 10l.94 2.06.94-2.06 2.06-.94-2.06-.94-.94-2.06-.94 2.06-2.06.94z\"/><path d=\"M17.41 7.96l-1.37-1.37c-.4-.4-.92-.59-1.43-.59-.52 0-1.04.2-1.43.59L10.3 9.45l-7.72 7.72c-.78.78-.78 2.05 0 2.83L4 21.41c.39.39.9.59 1.41.59.51 0 1.02-.2 1.41-.59l7.78-7.78 2.81-2.81c.8-.78.8-2.07 0-2.86zM5.41 20L4 18.59l7.72-7.72 1.47 1.35L5.41 20z\"/>\n",
              "  </svg>\n",
              "      </button>\n",
              "      \n",
              "  <style>\n",
              "    .colab-df-container {\n",
              "      display:flex;\n",
              "      flex-wrap:wrap;\n",
              "      gap: 12px;\n",
              "    }\n",
              "\n",
              "    .colab-df-convert {\n",
              "      background-color: #E8F0FE;\n",
              "      border: none;\n",
              "      border-radius: 50%;\n",
              "      cursor: pointer;\n",
              "      display: none;\n",
              "      fill: #1967D2;\n",
              "      height: 32px;\n",
              "      padding: 0 0 0 0;\n",
              "      width: 32px;\n",
              "    }\n",
              "\n",
              "    .colab-df-convert:hover {\n",
              "      background-color: #E2EBFA;\n",
              "      box-shadow: 0px 1px 2px rgba(60, 64, 67, 0.3), 0px 1px 3px 1px rgba(60, 64, 67, 0.15);\n",
              "      fill: #174EA6;\n",
              "    }\n",
              "\n",
              "    [theme=dark] .colab-df-convert {\n",
              "      background-color: #3B4455;\n",
              "      fill: #D2E3FC;\n",
              "    }\n",
              "\n",
              "    [theme=dark] .colab-df-convert:hover {\n",
              "      background-color: #434B5C;\n",
              "      box-shadow: 0px 1px 3px 1px rgba(0, 0, 0, 0.15);\n",
              "      filter: drop-shadow(0px 1px 2px rgba(0, 0, 0, 0.3));\n",
              "      fill: #FFFFFF;\n",
              "    }\n",
              "  </style>\n",
              "\n",
              "      <script>\n",
              "        const buttonEl =\n",
              "          document.querySelector('#df-1a98cd91-28a1-49fc-a156-e747726afb32 button.colab-df-convert');\n",
              "        buttonEl.style.display =\n",
              "          google.colab.kernel.accessAllowed ? 'block' : 'none';\n",
              "\n",
              "        async function convertToInteractive(key) {\n",
              "          const element = document.querySelector('#df-1a98cd91-28a1-49fc-a156-e747726afb32');\n",
              "          const dataTable =\n",
              "            await google.colab.kernel.invokeFunction('convertToInteractive',\n",
              "                                                     [key], {});\n",
              "          if (!dataTable) return;\n",
              "\n",
              "          const docLinkHtml = 'Like what you see? Visit the ' +\n",
              "            '<a target=\"_blank\" href=https://colab.research.google.com/notebooks/data_table.ipynb>data table notebook</a>'\n",
              "            + ' to learn more about interactive tables.';\n",
              "          element.innerHTML = '';\n",
              "          dataTable['output_type'] = 'display_data';\n",
              "          await google.colab.output.renderOutput(dataTable, element);\n",
              "          const docLink = document.createElement('div');\n",
              "          docLink.innerHTML = docLinkHtml;\n",
              "          element.appendChild(docLink);\n",
              "        }\n",
              "      </script>\n",
              "    </div>\n",
              "  </div>\n",
              "  "
            ]
          },
          "metadata": {},
          "execution_count": 36
        }
      ]
    },
    {
      "cell_type": "code",
      "source": [
        "df.DPF.describe()"
      ],
      "metadata": {
        "colab": {
          "base_uri": "https://localhost:8080/"
        },
        "id": "tHWkfsAwophU",
        "outputId": "16e7723f-9dc2-4044-ca2b-eb60f975b623"
      },
      "execution_count": null,
      "outputs": [
        {
          "output_type": "execute_result",
          "data": {
            "text/plain": [
              "count   737.000\n",
              "mean      0.464\n",
              "std       0.314\n",
              "min       0.078\n",
              "25%       0.243\n",
              "50%       0.366\n",
              "75%       0.613\n",
              "max       2.288\n",
              "Name: DPF, dtype: float64"
            ]
          },
          "metadata": {},
          "execution_count": 37
        }
      ]
    },
    {
      "cell_type": "code",
      "source": [
        "fig,axes = plt.subplots(nrows=1,ncols=2,dpi=120,figsize = (8,4))\n",
        "\n",
        "plot00=sns.distplot(df['DPF'],ax=axes[0],color='green')\n",
        "axes[0].set_title('Distribution of DPF',fontdict={'fontsize':8})\n",
        "axes[0].set_xlabel('DPF Class',fontdict={'fontsize':7})\n",
        "axes[0].set_ylabel('Frequency/Distrubtion',fontdict={'fontsize':7})\n",
        "plt.tight_layout()\n",
        "\n",
        "\n",
        "plot01=sns.boxplot('DPF',data=df,ax=axes[1],orient = 'v',color='m')\n",
        "axes[1].set_title('Five Point Summary',fontdict={'fontsize':8})\n",
        "plt.tight_layout()"
      ],
      "metadata": {
        "colab": {
          "base_uri": "https://localhost:8080/",
          "height": 614
        },
        "id": "ysWqt84qotzZ",
        "outputId": "8b5c46e5-af10-4b74-86c7-1599a01d6d2d"
      },
      "execution_count": null,
      "outputs": [
        {
          "output_type": "stream",
          "name": "stderr",
          "text": [
            "/usr/local/lib/python3.7/dist-packages/seaborn/distributions.py:2619: FutureWarning: `distplot` is a deprecated function and will be removed in a future version. Please adapt your code to use either `displot` (a figure-level function with similar flexibility) or `histplot` (an axes-level function for histograms).\n",
            "  warnings.warn(msg, FutureWarning)\n",
            "/usr/local/lib/python3.7/dist-packages/seaborn/_decorators.py:43: FutureWarning: Pass the following variable as a keyword arg: x. From version 0.12, the only valid positional argument will be `data`, and passing other arguments without an explicit keyword will result in an error or misinterpretation.\n",
            "  FutureWarning\n",
            "/usr/local/lib/python3.7/dist-packages/seaborn/_core.py:1326: UserWarning: Vertical orientation ignored with only `x` specified.\n",
            "  warnings.warn(single_var_warning.format(\"Vertical\", \"x\"))\n"
          ]
        },
        {
          "output_type": "display_data",
          "data": {
            "text/plain": [
              "<Figure size 960x480 with 2 Axes>"
            ],
            "image/png": "[encoded data removed]"
          },
          "metadata": {
            "needs_background": "light"
          }
        }
      ]
    },
    {
      "cell_type": "code",
      "source": [
        "df = std_based('DPF',df)\n",
        "\n",
        "fig,axes = plt.subplots(nrows=1,ncols=2,dpi=120,figsize = (8,4))\n",
        "\n",
        "plot00=sns.distplot(df['DPF'],ax=axes[0],color='green')\n",
        "axes[0].set_title('Distribution of DPF',fontdict={'fontsize':8})\n",
        "axes[0].set_xlabel('DPF Class',fontdict={'fontsize':7})\n",
        "axes[0].set_ylabel('Frequency/Distrubtion',fontdict={'fontsize':7})\n",
        "plt.tight_layout()\n",
        "\n",
        "\n",
        "plot01=sns.boxplot('DPF',data=df,ax=axes[1],orient = 'v')\n",
        "axes[1].set_title('Five Point Summary',fontdict={'fontsize':8})\n",
        "plt.tight_layout()"
      ],
      "metadata": {
        "colab": {
          "base_uri": "https://localhost:8080/",
          "height": 614
        },
        "id": "XByk6jA8ozQq",
        "outputId": "a927f97e-a637-40f5-ff37-8a24df645296"
      },
      "execution_count": null,
      "outputs": [
        {
          "output_type": "stream",
          "name": "stderr",
          "text": [
            "/usr/local/lib/python3.7/dist-packages/seaborn/distributions.py:2619: FutureWarning: `distplot` is a deprecated function and will be removed in a future version. Please adapt your code to use either `displot` (a figure-level function with similar flexibility) or `histplot` (an axes-level function for histograms).\n",
            "  warnings.warn(msg, FutureWarning)\n",
            "/usr/local/lib/python3.7/dist-packages/seaborn/_decorators.py:43: FutureWarning: Pass the following variable as a keyword arg: x. From version 0.12, the only valid positional argument will be `data`, and passing other arguments without an explicit keyword will result in an error or misinterpretation.\n",
            "  FutureWarning\n",
            "/usr/local/lib/python3.7/dist-packages/seaborn/_core.py:1326: UserWarning: Vertical orientation ignored with only `x` specified.\n",
            "  warnings.warn(single_var_warning.format(\"Vertical\", \"x\"))\n"
          ]
        },
        {
          "output_type": "display_data",
          "data": {
            "text/plain": [
              "<Figure size 960x480 with 2 Axes>"
            ],
            "image/png": "[encoded data removed]"
          },
          "metadata": {
            "needs_background": "light"
          }
        }
      ]
    },
    {
      "cell_type": "code",
      "source": [
        "df.Age.describe()"
      ],
      "metadata": {
        "colab": {
          "base_uri": "https://localhost:8080/"
        },
        "id": "7HOZpRHno6BC",
        "outputId": "7f14cef1-5975-4c14-aef7-07ff4132693c"
      },
      "execution_count": null,
      "outputs": [
        {
          "output_type": "execute_result",
          "data": {
            "text/plain": [
              "count   727.000\n",
              "mean     33.186\n",
              "std      11.707\n",
              "min      21.000\n",
              "25%      24.000\n",
              "50%      29.000\n",
              "75%      40.000\n",
              "max      81.000\n",
              "Name: Age, dtype: float64"
            ]
          },
          "metadata": {},
          "execution_count": 40
        }
      ]
    },
    {
      "cell_type": "code",
      "source": [
        "fig,axes = plt.subplots(nrows=1,ncols=2,dpi=120,figsize = (8,4))\n",
        "\n",
        "plot00=sns.distplot(df['Age'],ax=axes[0],color='green')\n",
        "axes[0].set_title('Distribution of Age',fontdict={'fontsize':8})\n",
        "axes[0].set_xlabel('Age Class',fontdict={'fontsize':7})\n",
        "axes[0].set_ylabel('Frequency/Distrubtion',fontdict={'fontsize':7})\n",
        "plt.tight_layout()\n",
        "\n",
        "\n",
        "plot01=sns.boxplot('Age',data=df,ax=axes[1],orient = 'v')\n",
        "axes[1].set_title('Five Point Summary',fontdict={'fontsize':8})\n",
        "plt.tight_layout()"
      ],
      "metadata": {
        "colab": {
          "base_uri": "https://localhost:8080/",
          "height": 614
        },
        "id": "d8S4l6s8o9p3",
        "outputId": "c43fde88-64cc-4806-eb11-5a7e10d48f14"
      },
      "execution_count": null,
      "outputs": [
        {
          "output_type": "stream",
          "name": "stderr",
          "text": [
            "/usr/local/lib/python3.7/dist-packages/seaborn/distributions.py:2619: FutureWarning: `distplot` is a deprecated function and will be removed in a future version. Please adapt your code to use either `displot` (a figure-level function with similar flexibility) or `histplot` (an axes-level function for histograms).\n",
            "  warnings.warn(msg, FutureWarning)\n",
            "/usr/local/lib/python3.7/dist-packages/seaborn/_decorators.py:43: FutureWarning: Pass the following variable as a keyword arg: x. From version 0.12, the only valid positional argument will be `data`, and passing other arguments without an explicit keyword will result in an error or misinterpretation.\n",
            "  FutureWarning\n",
            "/usr/local/lib/python3.7/dist-packages/seaborn/_core.py:1326: UserWarning: Vertical orientation ignored with only `x` specified.\n",
            "  warnings.warn(single_var_warning.format(\"Vertical\", \"x\"))\n"
          ]
        },
        {
          "output_type": "display_data",
          "data": {
            "text/plain": [
              "<Figure size 960x480 with 2 Axes>"
            ],
            "image/png": "[encoded data removed]"
          },
          "metadata": {
            "needs_background": "light"
          }
        }
      ]
    },
    {
      "cell_type": "code",
      "source": [
        "df = std_based('Age',df)\n",
        "\n",
        "fig,axes = plt.subplots(nrows=1,ncols=2,dpi=120,figsize = (8,4))\n",
        "\n",
        "plot00=sns.distplot(df['Age'],ax=axes[0],color='green')\n",
        "axes[0].set_title('Distribution of Age',fontdict={'fontsize':8})\n",
        "axes[0].set_xlabel('Age Class',fontdict={'fontsize':7})\n",
        "axes[0].set_ylabel('Frequency/Distrubtion',fontdict={'fontsize':7})\n",
        "plt.tight_layout()\n",
        "\n",
        "\n",
        "plot01=sns.boxplot('Age',data=df,ax=axes[1],orient = 'v')\n",
        "axes[1].set_title('Five Point Summary',fontdict={'fontsize':8})\n",
        "plt.tight_layout()"
      ],
      "metadata": {
        "colab": {
          "base_uri": "https://localhost:8080/",
          "height": 614
        },
        "id": "Hh5tjSX8pCIP",
        "outputId": "db68de94-3110-44ac-bdf2-e4c6c8d41cad"
      },
      "execution_count": null,
      "outputs": [
        {
          "output_type": "stream",
          "name": "stderr",
          "text": [
            "/usr/local/lib/python3.7/dist-packages/seaborn/distributions.py:2619: FutureWarning: `distplot` is a deprecated function and will be removed in a future version. Please adapt your code to use either `displot` (a figure-level function with similar flexibility) or `histplot` (an axes-level function for histograms).\n",
            "  warnings.warn(msg, FutureWarning)\n",
            "/usr/local/lib/python3.7/dist-packages/seaborn/_decorators.py:43: FutureWarning: Pass the following variable as a keyword arg: x. From version 0.12, the only valid positional argument will be `data`, and passing other arguments without an explicit keyword will result in an error or misinterpretation.\n",
            "  FutureWarning\n",
            "/usr/local/lib/python3.7/dist-packages/seaborn/_core.py:1326: UserWarning: Vertical orientation ignored with only `x` specified.\n",
            "  warnings.warn(single_var_warning.format(\"Vertical\", \"x\"))\n"
          ]
        },
        {
          "output_type": "display_data",
          "data": {
            "text/plain": [
              "<Figure size 960x480 with 2 Axes>"
            ],
            "image/png": "[encoded data removed]"
          },
          "metadata": {
            "needs_background": "light"
          }
        }
      ]
    },
    {
      "cell_type": "code",
      "source": [
        "df.head()"
      ],
      "metadata": {
        "colab": {
          "base_uri": "https://localhost:8080/",
          "height": 206
        },
        "id": "ddtml6HIpL25",
        "outputId": "4dde202e-f739-461d-9411-aa16b68b7d54"
      },
      "execution_count": null,
      "outputs": [
        {
          "output_type": "execute_result",
          "data": {
            "text/plain": [
              "   Pregnancies  Glucose  BloodPressure  SkinThickness  Insulin    BMI   DPF  Age  Outcome\n",
              "0            6  148.000             72         35.000   30.500 33.600 0.627   50        1\n",
              "1            1   85.000             66         29.000   30.500 26.600 0.351   31        0\n",
              "2            8  183.000             64         20.489   30.500 23.300 0.672   32        1\n",
              "3            1   89.000             66         23.000   94.000 28.100 0.167   21        0\n",
              "5            5  116.000             74         20.489   30.500 25.600 0.201   30        0"
            ],
            "text/html": [
              "\n",
              "  <div id=\"df-05f59748-ae6a-40bc-ad86-38a80eeacec7\">\n",
              "    <div class=\"colab-df-container\">\n",
              "      <div>\n",
              "<style scoped>\n",
              "    .dataframe tbody tr th:only-of-type {\n",
              "        vertical-align: middle;\n",
              "    }\n",
              "\n",
              "    .dataframe tbody tr th {\n",
              "        vertical-align: top;\n",
              "    }\n",
              "\n",
              "    .dataframe thead th {\n",
              "        text-align: right;\n",
              "    }\n",
              "</style>\n",
              "<table border=\"1\" class=\"dataframe\">\n",
              "  <thead>\n",
              "    <tr style=\"text-align: right;\">\n",
              "      <th></th>\n",
              "      <th>Pregnancies</th>\n",
              "      <th>Glucose</th>\n",
              "      <th>BloodPressure</th>\n",
              "      <th>SkinThickness</th>\n",
              "      <th>Insulin</th>\n",
              "      <th>BMI</th>\n",
              "      <th>DPF</th>\n",
              "      <th>Age</th>\n",
              "      <th>Outcome</th>\n",
              "    </tr>\n",
              "  </thead>\n",
              "  <tbody>\n",
              "    <tr>\n",
              "      <th>0</th>\n",
              "      <td>6</td>\n",
              "      <td>148.000</td>\n",
              "      <td>72</td>\n",
              "      <td>35.000</td>\n",
              "      <td>30.500</td>\n",
              "      <td>33.600</td>\n",
              "      <td>0.627</td>\n",
              "      <td>50</td>\n",
              "      <td>1</td>\n",
              "    </tr>\n",
              "    <tr>\n",
              "      <th>1</th>\n",
              "      <td>1</td>\n",
              "      <td>85.000</td>\n",
              "      <td>66</td>\n",
              "      <td>29.000</td>\n",
              "      <td>30.500</td>\n",
              "      <td>26.600</td>\n",
              "      <td>0.351</td>\n",
              "      <td>31</td>\n",
              "      <td>0</td>\n",
              "    </tr>\n",
              "    <tr>\n",
              "      <th>2</th>\n",
              "      <td>8</td>\n",
              "      <td>183.000</td>\n",
              "      <td>64</td>\n",
              "      <td>20.489</td>\n",
              "      <td>30.500</td>\n",
              "      <td>23.300</td>\n",
              "      <td>0.672</td>\n",
              "      <td>32</td>\n",
              "      <td>1</td>\n",
              "    </tr>\n",
              "    <tr>\n",
              "      <th>3</th>\n",
              "      <td>1</td>\n",
              "      <td>89.000</td>\n",
              "      <td>66</td>\n",
              "      <td>23.000</td>\n",
              "      <td>94.000</td>\n",
              "      <td>28.100</td>\n",
              "      <td>0.167</td>\n",
              "      <td>21</td>\n",
              "      <td>0</td>\n",
              "    </tr>\n",
              "    <tr>\n",
              "      <th>5</th>\n",
              "      <td>5</td>\n",
              "      <td>116.000</td>\n",
              "      <td>74</td>\n",
              "      <td>20.489</td>\n",
              "      <td>30.500</td>\n",
              "      <td>25.600</td>\n",
              "      <td>0.201</td>\n",
              "      <td>30</td>\n",
              "      <td>0</td>\n",
              "    </tr>\n",
              "  </tbody>\n",
              "</table>\n",
              "</div>\n",
              "      <button class=\"colab-df-convert\" onclick=\"convertToInteractive('df-05f59748-ae6a-40bc-ad86-38a80eeacec7')\"\n",
              "              title=\"Convert this dataframe to an interactive table.\"\n",
              "              style=\"display:none;\">\n",
              "        \n",
              "  <svg xmlns=\"http://www.w3.org/2000/svg\" height=\"24px\"viewBox=\"0 0 24 24\"\n",
              "       width=\"24px\">\n",
              "    <path d=\"M0 0h24v24H0V0z\" fill=\"none\"/>\n",
              "    <path d=\"M18.56 5.44l.94 2.06.94-2.06 2.06-.94-2.06-.94-.94-2.06-.94 2.06-2.06.94zm-11 1L8.5 8.5l.94-2.06 2.06-.94-2.06-.94L8.5 2.5l-.94 2.06-2.06.94zm10 10l.94 2.06.94-2.06 2.06-.94-2.06-.94-.94-2.06-.94 2.06-2.06.94z\"/><path d=\"M17.41 7.96l-1.37-1.37c-.4-.4-.92-.59-1.43-.59-.52 0-1.04.2-1.43.59L10.3 9.45l-7.72 7.72c-.78.78-.78 2.05 0 2.83L4 21.41c.39.39.9.59 1.41.59.51 0 1.02-.2 1.41-.59l7.78-7.78 2.81-2.81c.8-.78.8-2.07 0-2.86zM5.41 20L4 18.59l7.72-7.72 1.47 1.35L5.41 20z\"/>\n",
              "  </svg>\n",
              "      </button>\n",
              "      \n",
              "  <style>\n",
              "    .colab-df-container {\n",
              "      display:flex;\n",
              "      flex-wrap:wrap;\n",
              "      gap: 12px;\n",
              "    }\n",
              "\n",
              "    .colab-df-convert {\n",
              "      background-color: #E8F0FE;\n",
              "      border: none;\n",
              "      border-radius: 50%;\n",
              "      cursor: pointer;\n",
              "      display: none;\n",
              "      fill: #1967D2;\n",
              "      height: 32px;\n",
              "      padding: 0 0 0 0;\n",
              "      width: 32px;\n",
              "    }\n",
              "\n",
              "    .colab-df-convert:hover {\n",
              "      background-color: #E2EBFA;\n",
              "      box-shadow: 0px 1px 2px rgba(60, 64, 67, 0.3), 0px 1px 3px 1px rgba(60, 64, 67, 0.15);\n",
              "      fill: #174EA6;\n",
              "    }\n",
              "\n",
              "    [theme=dark] .colab-df-convert {\n",
              "      background-color: #3B4455;\n",
              "      fill: #D2E3FC;\n",
              "    }\n",
              "\n",
              "    [theme=dark] .colab-df-convert:hover {\n",
              "      background-color: #434B5C;\n",
              "      box-shadow: 0px 1px 3px 1px rgba(0, 0, 0, 0.15);\n",
              "      filter: drop-shadow(0px 1px 2px rgba(0, 0, 0, 0.3));\n",
              "      fill: #FFFFFF;\n",
              "    }\n",
              "  </style>\n",
              "\n",
              "      <script>\n",
              "        const buttonEl =\n",
              "          document.querySelector('#df-05f59748-ae6a-40bc-ad86-38a80eeacec7 button.colab-df-convert');\n",
              "        buttonEl.style.display =\n",
              "          google.colab.kernel.accessAllowed ? 'block' : 'none';\n",
              "\n",
              "        async function convertToInteractive(key) {\n",
              "          const element = document.querySelector('#df-05f59748-ae6a-40bc-ad86-38a80eeacec7');\n",
              "          const dataTable =\n",
              "            await google.colab.kernel.invokeFunction('convertToInteractive',\n",
              "                                                     [key], {});\n",
              "          if (!dataTable) return;\n",
              "\n",
              "          const docLinkHtml = 'Like what you see? Visit the ' +\n",
              "            '<a target=\"_blank\" href=https://colab.research.google.com/notebooks/data_table.ipynb>data table notebook</a>'\n",
              "            + ' to learn more about interactive tables.';\n",
              "          element.innerHTML = '';\n",
              "          dataTable['output_type'] = 'display_data';\n",
              "          await google.colab.output.renderOutput(dataTable, element);\n",
              "          const docLink = document.createElement('div');\n",
              "          docLink.innerHTML = docLinkHtml;\n",
              "          element.appendChild(docLink);\n",
              "        }\n",
              "      </script>\n",
              "    </div>\n",
              "  </div>\n",
              "  "
            ]
          },
          "metadata": {},
          "execution_count": 43
        }
      ]
    },
    {
      "cell_type": "code",
      "source": [
        "df.shape"
      ],
      "metadata": {
        "colab": {
          "base_uri": "https://localhost:8080/"
        },
        "id": "NLW-qlsEpPPy",
        "outputId": "483562b5-245e-4c4c-8d4a-fe73395a9e48"
      },
      "execution_count": null,
      "outputs": [
        {
          "output_type": "execute_result",
          "data": {
            "text/plain": [
              "(722, 9)"
            ]
          },
          "metadata": {},
          "execution_count": 44
        }
      ]
    },
    {
      "cell_type": "code",
      "source": [
        "df.info()"
      ],
      "metadata": {
        "colab": {
          "base_uri": "https://localhost:8080/"
        },
        "id": "YkpwLeiopTEd",
        "outputId": "29e49468-e192-45f5-af0a-00483ab14dfe"
      },
      "execution_count": null,
      "outputs": [
        {
          "output_type": "stream",
          "name": "stdout",
          "text": [
            "<class 'pandas.core.frame.DataFrame'>\n",
            "Int64Index: 722 entries, 0 to 767\n",
            "Data columns (total 9 columns):\n",
            " #   Column         Non-Null Count  Dtype  \n",
            "---  ------         --------------  -----  \n",
            " 0   Pregnancies    722 non-null    int64  \n",
            " 1   Glucose        722 non-null    float64\n",
            " 2   BloodPressure  722 non-null    int64  \n",
            " 3   SkinThickness  722 non-null    float64\n",
            " 4   Insulin        722 non-null    float64\n",
            " 5   BMI            722 non-null    float64\n",
            " 6   DPF            722 non-null    float64\n",
            " 7   Age            722 non-null    int64  \n",
            " 8   Outcome        722 non-null    int64  \n",
            "dtypes: float64(5), int64(4)\n",
            "memory usage: 56.4 KB\n"
          ]
        }
      ]
    },
    {
      "cell_type": "markdown",
      "source": [
        "# **Statistical Assumption**\n",
        "\n"
      ],
      "metadata": {
        "id": "Fy66kHQds2zt"
      }
    },
    {
      "cell_type": "code",
      "source": [
        "df.var()"
      ],
      "metadata": {
        "colab": {
          "base_uri": "https://localhost:8080/"
        },
        "id": "LnDtuR0UpWzG",
        "outputId": "a72441b2-c9db-4c2a-f8fb-81d40e3855d7"
      },
      "execution_count": null,
      "outputs": [
        {
          "output_type": "execute_result",
          "data": {
            "text/plain": [
              "Pregnancies       11.346\n",
              "Glucose          876.666\n",
              "BloodPressure    128.300\n",
              "SkinThickness     80.518\n",
              "Insulin         5983.524\n",
              "BMI               42.660\n",
              "DPF                0.077\n",
              "Age              127.223\n",
              "Outcome            0.225\n",
              "dtype: float64"
            ]
          },
          "metadata": {},
          "execution_count": 46
        }
      ]
    },
    {
      "cell_type": "code",
      "source": [
        "df.drop('DPF',axis = 1,inplace=True)"
      ],
      "metadata": {
        "id": "vKKf5rQdpamx"
      },
      "execution_count": null,
      "outputs": []
    },
    {
      "cell_type": "markdown",
      "source": [
        "# **Splitting Data**"
      ],
      "metadata": {
        "id": "5mTKPLK4taRb"
      }
    },
    {
      "cell_type": "code",
      "source": [
        "df.Outcome.value_counts()"
      ],
      "metadata": {
        "colab": {
          "base_uri": "https://localhost:8080/"
        },
        "id": "k2bOwh7GpffD",
        "outputId": "2051eab1-9e03-4da7-dce8-0d128f670884"
      },
      "execution_count": null,
      "outputs": [
        {
          "output_type": "execute_result",
          "data": {
            "text/plain": [
              "0    476\n",
              "1    246\n",
              "Name: Outcome, dtype: int64"
            ]
          },
          "metadata": {},
          "execution_count": 48
        }
      ]
    },
    {
      "cell_type": "code",
      "source": [
        "sns.countplot(df['Outcome']).set_title('Distribution of Outcome')\n",
        "plt.show()"
      ],
      "metadata": {
        "colab": {
          "base_uri": "https://localhost:8080/",
          "height": 351
        },
        "id": "IDcdjTrnpixW",
        "outputId": "c1aa3b96-6e58-4d0f-b9d4-b6c419520f36"
      },
      "execution_count": null,
      "outputs": [
        {
          "output_type": "stream",
          "name": "stderr",
          "text": [
            "/usr/local/lib/python3.7/dist-packages/seaborn/_decorators.py:43: FutureWarning: Pass the following variable as a keyword arg: x. From version 0.12, the only valid positional argument will be `data`, and passing other arguments without an explicit keyword will result in an error or misinterpretation.\n",
            "  FutureWarning\n"
          ]
        },
        {
          "output_type": "display_data",
          "data": {
            "text/plain": [
              "<Figure size 432x288 with 1 Axes>"
            ],
            "image/png": "[encoded data removed]"
          },
          "metadata": {
            "needs_background": "light"
          }
        }
      ]
    },
    {
      "cell_type": "code",
      "source": [
        "x=df.iloc[:,:-1].values\n",
        "y=df.iloc[:,-1].values\n",
        "\n",
        "from sklearn.model_selection import train_test_split\n",
        "x_train,x_test,y_train,y_test = train_test_split(x,y,test_size = 0.20, random_state = 0)\n",
        "\n",
        "print(x_train.shape)\n",
        "print(x_test.shape)\n",
        "print(y_train.shape)\n",
        "print(y_test.shape)"
      ],
      "metadata": {
        "colab": {
          "base_uri": "https://localhost:8080/"
        },
        "id": "-UtpwMkGpmMP",
        "outputId": "12c645c8-3567-4c85-95d0-04e87d468c21"
      },
      "execution_count": null,
      "outputs": [
        {
          "output_type": "stream",
          "name": "stdout",
          "text": [
            "(577, 7)\n",
            "(145, 7)\n",
            "(577,)\n",
            "(145,)\n"
          ]
        }
      ]
    },
    {
      "cell_type": "code",
      "source": [
        "from sklearn.preprocessing import StandardScaler\n",
        "ss = StandardScaler()\n",
        "\n",
        "x_train_std = ss.fit_transform(x_train)\n",
        "x_test_std = ss.transform(x_test)"
      ],
      "metadata": {
        "id": "yFyg0Wlypp4V"
      },
      "execution_count": null,
      "outputs": []
    },
    {
      "cell_type": "markdown",
      "source": [
        "# **KNN**"
      ],
      "metadata": {
        "id": "O3EnAOKEt0Lk"
      }
    },
    {
      "cell_type": "code",
      "source": [
        "from sklearn.neighbors import KNeighborsClassifier\n",
        "from sklearn import metrics\n",
        "from sklearn.model_selection import GridSearchCV, RandomizedSearchCV\n",
        "\n",
        "knn = KNeighborsClassifier()\n",
        "\n",
        "param_grid = {'n_neighbors':[5,10,15,25,30,50]}\n",
        "\n",
        "grid_knn = GridSearchCV(knn,param_grid,scoring='accuracy',cv = 10,refit = True)"
      ],
      "metadata": {
        "id": "LuwFul-Npt78"
      },
      "execution_count": null,
      "outputs": []
    },
    {
      "cell_type": "code",
      "source": [
        "grid_knn.fit(x_train_std,y_train)\n",
        "print(\"Best Score ==> \", grid_knn.best_score_)\n",
        "print(\"Tuned Paramerers ==> \",grid_knn.best_params_)\n",
        "print(\"Accuracy on Train set ==> \", grid_knn.score(x_train_std,y_train))\n",
        "print(\"Accuracy on Test set ==> \", grid_knn.score(x_test_std,y_test))"
      ],
      "metadata": {
        "colab": {
          "base_uri": "https://localhost:8080/"
        },
        "id": "AYXFpRf7py5U",
        "outputId": "09fc6feb-7895-4dec-8815-187ce78cd897"
      },
      "execution_count": null,
      "outputs": [
        {
          "output_type": "stream",
          "name": "stdout",
          "text": [
            "Best Score ==>  0.7639443436176647\n",
            "Tuned Paramerers ==>  {'n_neighbors': 25}\n",
            "Accuracy on Train set ==>  0.7885615251299827\n",
            "Accuracy on Test set ==>  0.7655172413793103\n"
          ]
        }
      ]
    },
    {
      "cell_type": "markdown",
      "source": [
        "# **Decision Tree Clasifier**"
      ],
      "metadata": {
        "id": "vOD7NjfQt8dG"
      }
    },
    {
      "cell_type": "code",
      "source": [
        "from sklearn.tree import DecisionTreeClassifier\n",
        "dtc = DecisionTreeClassifier()\n",
        "\n",
        "param_grid = {'criterion':['gini','entropy'],'max_depth':np.arange(2,10),'min_samples_leaf':[0.2,0.4,0.6,0.8,0.9,1]}\n",
        "\n",
        "grid_dtc = GridSearchCV(dtc,param_grid,scoring='accuracy',cv = 10,refit = True)"
      ],
      "metadata": {
        "id": "NfOWg_X-p2dU"
      },
      "execution_count": null,
      "outputs": []
    },
    {
      "cell_type": "code",
      "source": [
        "grid_dtc.fit(x_train_std,y_train)\n",
        "print(\"Best Score ==> \", grid_dtc.best_score_)\n",
        "print(\"Tuned Paramerers ==> \",grid_dtc.best_params_)\n",
        "print(\"Accuracy on Train set ==> \", grid_dtc.score(x_train_std,y_train))\n",
        "print(\"Accuracy on Test set ==> \", grid_dtc.score(x_test_std,y_test))"
      ],
      "metadata": {
        "colab": {
          "base_uri": "https://localhost:8080/"
        },
        "id": "BFa4tPSrp-KY",
        "outputId": "dd54ded0-6b81-438f-86b3-da2eabd7596c"
      },
      "execution_count": null,
      "outputs": [
        {
          "output_type": "stream",
          "name": "stdout",
          "text": [
            "Best Score ==>  0.7435269207501513\n",
            "Tuned Paramerers ==>  {'criterion': 'gini', 'max_depth': 6, 'min_samples_leaf': 1}\n",
            "Accuracy on Train set ==>  0.8752166377816292\n",
            "Accuracy on Test set ==>  0.7310344827586207\n"
          ]
        },
        {
          "output_type": "stream",
          "name": "stderr",
          "text": [
            "/usr/local/lib/python3.7/dist-packages/sklearn/model_selection/_validation.py:372: FitFailedWarning: \n",
            "480 fits failed out of a total of 960.\n",
            "The score on these train-test partitions for these parameters will be set to nan.\n",
            "If these failures are not expected, you can try to debug them by setting error_score='raise'.\n",
            "\n",
            "Below are more details about the failures:\n",
            "--------------------------------------------------------------------------------\n",
            "160 fits failed with the following error:\n",
            "Traceback (most recent call last):\n",
            "  File \"/usr/local/lib/python3.7/dist-packages/sklearn/model_selection/_validation.py\", line 680, in _fit_and_score\n",
            "    estimator.fit(X_train, y_train, **fit_params)\n",
            "  File \"/usr/local/lib/python3.7/dist-packages/sklearn/tree/_classes.py\", line 942, in fit\n",
            "    X_idx_sorted=X_idx_sorted,\n",
            "  File \"/usr/local/lib/python3.7/dist-packages/sklearn/tree/_classes.py\", line 244, in fit\n",
            "    % self.min_samples_leaf\n",
            "ValueError: min_samples_leaf must be at least 1 or in (0, 0.5], got 0.6\n",
            "\n",
            "--------------------------------------------------------------------------------\n",
            "160 fits failed with the following error:\n",
            "Traceback (most recent call last):\n",
            "  File \"/usr/local/lib/python3.7/dist-packages/sklearn/model_selection/_validation.py\", line 680, in _fit_and_score\n",
            "    estimator.fit(X_train, y_train, **fit_params)\n",
            "  File \"/usr/local/lib/python3.7/dist-packages/sklearn/tree/_classes.py\", line 942, in fit\n",
            "    X_idx_sorted=X_idx_sorted,\n",
            "  File \"/usr/local/lib/python3.7/dist-packages/sklearn/tree/_classes.py\", line 244, in fit\n",
            "    % self.min_samples_leaf\n",
            "ValueError: min_samples_leaf must be at least 1 or in (0, 0.5], got 0.8\n",
            "\n",
            "--------------------------------------------------------------------------------\n",
            "160 fits failed with the following error:\n",
            "Traceback (most recent call last):\n",
            "  File \"/usr/local/lib/python3.7/dist-packages/sklearn/model_selection/_validation.py\", line 680, in _fit_and_score\n",
            "    estimator.fit(X_train, y_train, **fit_params)\n",
            "  File \"/usr/local/lib/python3.7/dist-packages/sklearn/tree/_classes.py\", line 942, in fit\n",
            "    X_idx_sorted=X_idx_sorted,\n",
            "  File \"/usr/local/lib/python3.7/dist-packages/sklearn/tree/_classes.py\", line 244, in fit\n",
            "    % self.min_samples_leaf\n",
            "ValueError: min_samples_leaf must be at least 1 or in (0, 0.5], got 0.9\n",
            "\n",
            "  warnings.warn(some_fits_failed_message, FitFailedWarning)\n",
            "/usr/local/lib/python3.7/dist-packages/sklearn/model_selection/_search.py:972: UserWarning: One or more of the test scores are non-finite: [0.72447066 0.72441016        nan        nan        nan 0.7330611\n",
            " 0.71569873 0.72441016        nan        nan        nan 0.72958258\n",
            " 0.72447066 0.72441016        nan        nan        nan 0.72437992\n",
            " 0.71569873 0.72441016        nan        nan        nan 0.73481549\n",
            " 0.71569873 0.72441016        nan        nan        nan 0.74352692\n",
            " 0.72447066 0.72441016        nan        nan        nan 0.72265578\n",
            " 0.71569873 0.72441016        nan        nan        nan 0.7330611\n",
            " 0.72447066 0.72441016        nan        nan        nan 0.70880218\n",
            " 0.7261948  0.72441016        nan        nan        nan 0.72961283\n",
            " 0.71742287 0.72441016        nan        nan        nan 0.7399274\n",
            " 0.71742287 0.72441016        nan        nan        nan 0.73811252\n",
            " 0.7261948  0.72441016        nan        nan        nan 0.73826376\n",
            " 0.7261948  0.72441016        nan        nan        nan 0.73309135\n",
            " 0.71742287 0.72441016        nan        nan        nan 0.74165154\n",
            " 0.7261948  0.72441016        nan        nan        nan 0.73660012\n",
            " 0.7261948  0.72441016        nan        nan        nan 0.73139746]\n",
            "  category=UserWarning,\n"
          ]
        }
      ]
    },
    {
      "cell_type": "markdown",
      "source": [
        "# **SVC**"
      ],
      "metadata": {
        "id": "Q0ymkO_CuNih"
      }
    },
    {
      "cell_type": "code",
      "source": [
        "from sklearn.svm import SVC\n",
        "\n",
        "svc = SVC(probability=True)\n",
        "\n",
        "param_grid = {'kernel':['rbf','linear'],'C':[0.01,0.1,1,0.001],'gamma':[0.1,0.01,0.2,0.4]}\n",
        "\n",
        "grid_svc = GridSearchCV(svc,param_grid,scoring='accuracy',cv = 10,refit = True)"
      ],
      "metadata": {
        "id": "FPq359scqLht"
      },
      "execution_count": null,
      "outputs": []
    },
    {
      "cell_type": "code",
      "source": [
        "grid_svc.fit(x_train_std,y_train)\n",
        "print(\"Best Score ==> \", grid_svc.best_score_)\n",
        "print(\"Tuned Paramerers ==> \",grid_svc.best_params_)\n",
        "print(\"Accuracy on Train set ==> \", grid_svc.score(x_train_std,y_train))\n",
        "print(\"Accuracy on Test set ==> \", grid_svc.score(x_test_std,y_test))"
      ],
      "metadata": {
        "colab": {
          "base_uri": "https://localhost:8080/"
        },
        "id": "etx8Ye0zqP2a",
        "outputId": "d776b298-9889-402a-d0a5-97f2947f8bec"
      },
      "execution_count": null,
      "outputs": [
        {
          "output_type": "stream",
          "name": "stdout",
          "text": [
            "Best Score ==>  0.772746521476104\n",
            "Tuned Paramerers ==>  {'C': 1, 'gamma': 0.01, 'kernel': 'rbf'}\n",
            "Accuracy on Train set ==>  0.7816291161178509\n",
            "Accuracy on Test set ==>  0.7517241379310344\n"
          ]
        }
      ]
    },
    {
      "cell_type": "markdown",
      "source": [
        "# **Voting Classifier**"
      ],
      "metadata": {
        "id": "r2qEujREuY3E"
      }
    },
    {
      "cell_type": "code",
      "source": [
        "from sklearn.ensemble import VotingClassifier\n",
        "\n",
        "classifiers = [('knn',grid_knn),('tree',grid_dtc),('svc',grid_svc)]\n",
        "\n",
        "vtc = VotingClassifier(classifiers)"
      ],
      "metadata": {
        "id": "Kt7c_NOZqXDl"
      },
      "execution_count": null,
      "outputs": []
    },
    {
      "cell_type": "code",
      "source": [
        "vtc.fit(x_train_std,y_train)\n",
        "print(\"Accuracy on Test set ==> \", vtc.score(x_test_std,y_test))"
      ],
      "metadata": {
        "colab": {
          "base_uri": "https://localhost:8080/"
        },
        "id": "QQ7XwTbRqdKW",
        "outputId": "b08aec3d-905f-4fce-a7f5-f37ef5ec827d"
      },
      "execution_count": null,
      "outputs": [
        {
          "output_type": "stream",
          "name": "stderr",
          "text": [
            "/usr/local/lib/python3.7/dist-packages/sklearn/model_selection/_validation.py:372: FitFailedWarning: \n",
            "480 fits failed out of a total of 960.\n",
            "The score on these train-test partitions for these parameters will be set to nan.\n",
            "If these failures are not expected, you can try to debug them by setting error_score='raise'.\n",
            "\n",
            "Below are more details about the failures:\n",
            "--------------------------------------------------------------------------------\n",
            "160 fits failed with the following error:\n",
            "Traceback (most recent call last):\n",
            "  File \"/usr/local/lib/python3.7/dist-packages/sklearn/model_selection/_validation.py\", line 680, in _fit_and_score\n",
            "    estimator.fit(X_train, y_train, **fit_params)\n",
            "  File \"/usr/local/lib/python3.7/dist-packages/sklearn/tree/_classes.py\", line 942, in fit\n",
            "    X_idx_sorted=X_idx_sorted,\n",
            "  File \"/usr/local/lib/python3.7/dist-packages/sklearn/tree/_classes.py\", line 244, in fit\n",
            "    % self.min_samples_leaf\n",
            "ValueError: min_samples_leaf must be at least 1 or in (0, 0.5], got 0.6\n",
            "\n",
            "--------------------------------------------------------------------------------\n",
            "160 fits failed with the following error:\n",
            "Traceback (most recent call last):\n",
            "  File \"/usr/local/lib/python3.7/dist-packages/sklearn/model_selection/_validation.py\", line 680, in _fit_and_score\n",
            "    estimator.fit(X_train, y_train, **fit_params)\n",
            "  File \"/usr/local/lib/python3.7/dist-packages/sklearn/tree/_classes.py\", line 942, in fit\n",
            "    X_idx_sorted=X_idx_sorted,\n",
            "  File \"/usr/local/lib/python3.7/dist-packages/sklearn/tree/_classes.py\", line 244, in fit\n",
            "    % self.min_samples_leaf\n",
            "ValueError: min_samples_leaf must be at least 1 or in (0, 0.5], got 0.8\n",
            "\n",
            "--------------------------------------------------------------------------------\n",
            "160 fits failed with the following error:\n",
            "Traceback (most recent call last):\n",
            "  File \"/usr/local/lib/python3.7/dist-packages/sklearn/model_selection/_validation.py\", line 680, in _fit_and_score\n",
            "    estimator.fit(X_train, y_train, **fit_params)\n",
            "  File \"/usr/local/lib/python3.7/dist-packages/sklearn/tree/_classes.py\", line 942, in fit\n",
            "    X_idx_sorted=X_idx_sorted,\n",
            "  File \"/usr/local/lib/python3.7/dist-packages/sklearn/tree/_classes.py\", line 244, in fit\n",
            "    % self.min_samples_leaf\n",
            "ValueError: min_samples_leaf must be at least 1 or in (0, 0.5], got 0.9\n",
            "\n",
            "  warnings.warn(some_fits_failed_message, FitFailedWarning)\n",
            "/usr/local/lib/python3.7/dist-packages/sklearn/model_selection/_search.py:972: UserWarning: One or more of the test scores are non-finite: [0.71569873 0.72441016        nan        nan        nan 0.7330611\n",
            " 0.72447066 0.72441016        nan        nan        nan 0.72958258\n",
            " 0.72447066 0.72441016        nan        nan        nan 0.72782819\n",
            " 0.72447066 0.72441016        nan        nan        nan 0.73478524\n",
            " 0.72447066 0.72441016        nan        nan        nan 0.74525106\n",
            " 0.71569873 0.72441016        nan        nan        nan 0.72779794\n",
            " 0.71569873 0.72441016        nan        nan        nan 0.71049607\n",
            " 0.71569873 0.72441016        nan        nan        nan 0.70877193\n",
            " 0.71742287 0.72441016        nan        nan        nan 0.72961283\n",
            " 0.7261948  0.72441016        nan        nan        nan 0.7399274\n",
            " 0.71742287 0.72441016        nan        nan        nan 0.73638838\n",
            " 0.71742287 0.72441016        nan        nan        nan 0.7399879\n",
            " 0.71742287 0.72441016        nan        nan        nan 0.73656987\n",
            " 0.7261948  0.72441016        nan        nan        nan 0.74854809\n",
            " 0.7261948  0.72441016        nan        nan        nan 0.73481549\n",
            " 0.71742287 0.72441016        nan        nan        nan 0.7400484 ]\n",
            "  category=UserWarning,\n"
          ]
        },
        {
          "output_type": "stream",
          "name": "stdout",
          "text": [
            "Accuracy on Test set ==>  0.7586206896551724\n"
          ]
        }
      ]
    },
    {
      "cell_type": "markdown",
      "source": [
        "# **Feature Selection**"
      ],
      "metadata": {
        "id": "_oCnpvOlu32J"
      }
    },
    {
      "cell_type": "code",
      "source": [
        "from sklearn.feature_selection import RFE\n",
        "from sklearn.ensemble import RandomForestClassifier\n",
        "\n",
        "for i in range(2,7):\n",
        "    rfe = RFE(estimator=RandomForestClassifier(),n_features_to_select=i, verbose=0)\n",
        "    rfe.fit(x_train_std,y_train)\n",
        "    print(f\"Accuracy with Feature {i} ==>\",metrics.accuracy_score(y_test, rfe.predict(x_test_std)))"
      ],
      "metadata": {
        "colab": {
          "base_uri": "https://localhost:8080/"
        },
        "id": "aikVLgIQqtY-",
        "outputId": "ce5fd9df-bb19-47c1-942d-113567f7d6c3"
      },
      "execution_count": null,
      "outputs": [
        {
          "output_type": "stream",
          "name": "stdout",
          "text": [
            "Accuracy with Feature 2 ==> 0.7034482758620689\n",
            "Accuracy with Feature 3 ==> 0.7655172413793103\n",
            "Accuracy with Feature 4 ==> 0.7586206896551724\n",
            "Accuracy with Feature 5 ==> 0.7655172413793103\n",
            "Accuracy with Feature 6 ==> 0.7379310344827587\n"
          ]
        }
      ]
    },
    {
      "cell_type": "code",
      "source": [
        "rfe = RFE(estimator=RandomForestClassifier(),n_features_to_select=5, verbose=0)\n",
        "rfe.fit(x_train_std,y_train)"
      ],
      "metadata": {
        "colab": {
          "base_uri": "https://localhost:8080/"
        },
        "id": "p5wQf_9Bqz7T",
        "outputId": "5993cce8-5b04-4dc0-b92b-9b284ce61cd3"
      },
      "execution_count": null,
      "outputs": [
        {
          "output_type": "execute_result",
          "data": {
            "text/plain": [
              "RFE(estimator=RandomForestClassifier(), n_features_to_select=5)"
            ]
          },
          "metadata": {},
          "execution_count": 63
        }
      ]
    },
    {
      "cell_type": "code",
      "source": [
        "print(\"Important Features are ==> \",list(df.columns[:7][rfe.support_]))"
      ],
      "metadata": {
        "colab": {
          "base_uri": "https://localhost:8080/"
        },
        "id": "j3ZZDekEq4iL",
        "outputId": "b678b6bd-e2e0-4d23-8e02-a085f1e4e8c8"
      },
      "execution_count": null,
      "outputs": [
        {
          "output_type": "stream",
          "name": "stdout",
          "text": [
            "Important Features are ==>  ['Glucose', 'BloodPressure', 'SkinThickness', 'BMI', 'Age']\n"
          ]
        }
      ]
    },
    {
      "cell_type": "code",
      "source": [
        "x=df.loc[:,list(df.columns[:7][rfe.support_])].values\n",
        "y=df.iloc[:,-1].values\n",
        "\n",
        "from sklearn.model_selection import train_test_split\n",
        "x_train,x_test,y_train,y_test = train_test_split(x,y,test_size = 0.20, random_state = 0)\n",
        "\n",
        "print(x_train.shape)\n",
        "print(x_test.shape)\n",
        "print(y_train.shape)\n",
        "print(y_test.shape)\n",
        "\n",
        "from sklearn.preprocessing import StandardScaler\n",
        "ss = StandardScaler()\n",
        "\n",
        "x_train_std = ss.fit_transform(x_train)\n",
        "x_test_std = ss.transform(x_test)"
      ],
      "metadata": {
        "colab": {
          "base_uri": "https://localhost:8080/"
        },
        "id": "JWfIB6Frq8ks",
        "outputId": "777c0332-6277-43d9-8483-1f59373d5efe"
      },
      "execution_count": null,
      "outputs": [
        {
          "output_type": "stream",
          "name": "stdout",
          "text": [
            "(577, 5)\n",
            "(145, 5)\n",
            "(577,)\n",
            "(145,)\n"
          ]
        }
      ]
    },
    {
      "cell_type": "markdown",
      "source": [
        "# **Random Forest Classifier**"
      ],
      "metadata": {
        "id": "9G_XkBzBvC_P"
      }
    },
    {
      "cell_type": "code",
      "source": [
        "from sklearn.ensemble import RandomForestClassifier\n",
        "\n",
        "rfc = RandomForestClassifier()\n",
        "\n",
        "param_grid = {'n_estimators':[200,500,1000],\n",
        "              'max_depth':[2,3,4,5],\n",
        "              'min_samples_leaf':[0.2,0.4,0.6,0.8,1],\n",
        "              'max_features':['auto','sqrt'],\n",
        "              'criterion':['gini','entropy']}\n",
        "\n",
        "grid_rfc = RandomizedSearchCV(rfc,param_grid,n_iter=20,scoring='accuracy',cv = 10,refit = True)"
      ],
      "metadata": {
        "id": "qOn_eCHQrAzd"
      },
      "execution_count": null,
      "outputs": []
    },
    {
      "cell_type": "code",
      "source": [
        "grid_rfc.fit(x_train_std,y_train)\n",
        "print(\"Best Score ==> \", grid_rfc.best_score_)\n",
        "print(\"Tuned Paramerers ==> \",grid_rfc.best_params_)\n",
        "print(\"Accuracy on Train set ==> \", grid_rfc.score(x_train_std,y_train))\n",
        "print(\"Accuracy on Test set ==> \", grid_rfc.score(x_test_std,y_test))"
      ],
      "metadata": {
        "colab": {
          "base_uri": "https://localhost:8080/"
        },
        "id": "pyMP4g-arE3C",
        "outputId": "a9266a05-8d2a-41ec-8ceb-66971c7d1a9a"
      },
      "execution_count": null,
      "outputs": [
        {
          "output_type": "stream",
          "name": "stderr",
          "text": [
            "/usr/local/lib/python3.7/dist-packages/sklearn/model_selection/_validation.py:372: FitFailedWarning: \n",
            "80 fits failed out of a total of 200.\n",
            "The score on these train-test partitions for these parameters will be set to nan.\n",
            "If these failures are not expected, you can try to debug them by setting error_score='raise'.\n",
            "\n",
            "Below are more details about the failures:\n",
            "--------------------------------------------------------------------------------\n",
            "40 fits failed with the following error:\n",
            "Traceback (most recent call last):\n",
            "  File \"/usr/local/lib/python3.7/dist-packages/sklearn/model_selection/_validation.py\", line 680, in _fit_and_score\n",
            "    estimator.fit(X_train, y_train, **fit_params)\n",
            "  File \"/usr/local/lib/python3.7/dist-packages/sklearn/ensemble/_forest.py\", line 467, in fit\n",
            "    for i, t in enumerate(trees)\n",
            "  File \"/usr/local/lib/python3.7/dist-packages/joblib/parallel.py\", line 1043, in __call__\n",
            "    if self.dispatch_one_batch(iterator):\n",
            "  File \"/usr/local/lib/python3.7/dist-packages/joblib/parallel.py\", line 861, in dispatch_one_batch\n",
            "    self._dispatch(tasks)\n",
            "  File \"/usr/local/lib/python3.7/dist-packages/joblib/parallel.py\", line 779, in _dispatch\n",
            "    job = self._backend.apply_async(batch, callback=cb)\n",
            "  File \"/usr/local/lib/python3.7/dist-packages/joblib/_parallel_backends.py\", line 208, in apply_async\n",
            "    result = ImmediateResult(func)\n",
            "  File \"/usr/local/lib/python3.7/dist-packages/joblib/_parallel_backends.py\", line 572, in __init__\n",
            "    self.results = batch()\n",
            "  File \"/usr/local/lib/python3.7/dist-packages/joblib/parallel.py\", line 263, in __call__\n",
            "    for func, args, kwargs in self.items]\n",
            "  File \"/usr/local/lib/python3.7/dist-packages/joblib/parallel.py\", line 263, in <listcomp>\n",
            "    for func, args, kwargs in self.items]\n",
            "  File \"/usr/local/lib/python3.7/dist-packages/sklearn/utils/fixes.py\", line 216, in __call__\n",
            "    return self.function(*args, **kwargs)\n",
            "  File \"/usr/local/lib/python3.7/dist-packages/sklearn/ensemble/_forest.py\", line 185, in _parallel_build_trees\n",
            "    tree.fit(X, y, sample_weight=curr_sample_weight, check_input=False)\n",
            "  File \"/usr/local/lib/python3.7/dist-packages/sklearn/tree/_classes.py\", line 942, in fit\n",
            "    X_idx_sorted=X_idx_sorted,\n",
            "  File \"/usr/local/lib/python3.7/dist-packages/sklearn/tree/_classes.py\", line 244, in fit\n",
            "    % self.min_samples_leaf\n",
            "ValueError: min_samples_leaf must be at least 1 or in (0, 0.5], got 0.8\n",
            "\n",
            "--------------------------------------------------------------------------------\n",
            "40 fits failed with the following error:\n",
            "Traceback (most recent call last):\n",
            "  File \"/usr/local/lib/python3.7/dist-packages/sklearn/model_selection/_validation.py\", line 680, in _fit_and_score\n",
            "    estimator.fit(X_train, y_train, **fit_params)\n",
            "  File \"/usr/local/lib/python3.7/dist-packages/sklearn/ensemble/_forest.py\", line 467, in fit\n",
            "    for i, t in enumerate(trees)\n",
            "  File \"/usr/local/lib/python3.7/dist-packages/joblib/parallel.py\", line 1043, in __call__\n",
            "    if self.dispatch_one_batch(iterator):\n",
            "  File \"/usr/local/lib/python3.7/dist-packages/joblib/parallel.py\", line 861, in dispatch_one_batch\n",
            "    self._dispatch(tasks)\n",
            "  File \"/usr/local/lib/python3.7/dist-packages/joblib/parallel.py\", line 779, in _dispatch\n",
            "    job = self._backend.apply_async(batch, callback=cb)\n",
            "  File \"/usr/local/lib/python3.7/dist-packages/joblib/_parallel_backends.py\", line 208, in apply_async\n",
            "    result = ImmediateResult(func)\n",
            "  File \"/usr/local/lib/python3.7/dist-packages/joblib/_parallel_backends.py\", line 572, in __init__\n",
            "    self.results = batch()\n",
            "  File \"/usr/local/lib/python3.7/dist-packages/joblib/parallel.py\", line 263, in __call__\n",
            "    for func, args, kwargs in self.items]\n",
            "  File \"/usr/local/lib/python3.7/dist-packages/joblib/parallel.py\", line 263, in <listcomp>\n",
            "    for func, args, kwargs in self.items]\n",
            "  File \"/usr/local/lib/python3.7/dist-packages/sklearn/utils/fixes.py\", line 216, in __call__\n",
            "    return self.function(*args, **kwargs)\n",
            "  File \"/usr/local/lib/python3.7/dist-packages/sklearn/ensemble/_forest.py\", line 185, in _parallel_build_trees\n",
            "    tree.fit(X, y, sample_weight=curr_sample_weight, check_input=False)\n",
            "  File \"/usr/local/lib/python3.7/dist-packages/sklearn/tree/_classes.py\", line 942, in fit\n",
            "    X_idx_sorted=X_idx_sorted,\n",
            "  File \"/usr/local/lib/python3.7/dist-packages/sklearn/tree/_classes.py\", line 244, in fit\n",
            "    % self.min_samples_leaf\n",
            "ValueError: min_samples_leaf must be at least 1 or in (0, 0.5], got 0.6\n",
            "\n",
            "  warnings.warn(some_fits_failed_message, FitFailedWarning)\n",
            "/usr/local/lib/python3.7/dist-packages/sklearn/model_selection/_search.py:972: UserWarning: One or more of the test scores are non-finite: [       nan        nan 0.74851785 0.67068966        nan 0.76237145\n",
            "        nan 0.67068966        nan        nan 0.67068966        nan\n",
            " 0.75196612        nan 0.77450091 0.7484876  0.76588022 0.67068966\n",
            " 0.74851785 0.75024198]\n",
            "  category=UserWarning,\n"
          ]
        },
        {
          "output_type": "stream",
          "name": "stdout",
          "text": [
            "Best Score ==>  0.7745009074410163\n",
            "Tuned Paramerers ==>  {'n_estimators': 500, 'min_samples_leaf': 1, 'max_features': 'auto', 'max_depth': 2, 'criterion': 'gini'}\n",
            "Accuracy on Train set ==>  0.7902946273830156\n",
            "Accuracy on Test set ==>  0.7379310344827587\n"
          ]
        }
      ]
    },
    {
      "cell_type": "markdown",
      "source": [
        "# **XGBoost Classifier**"
      ],
      "metadata": {
        "id": "-mC5GPPGvLVA"
      }
    },
    {
      "cell_type": "code",
      "source": [
        "import xgboost as xgb\n",
        "\n",
        "xgbcl = xgb.XGBClassifier()\n",
        "\n",
        "param_grid = {'booster':['gbtree','gblinear'],\n",
        "             'colsample_bytree':[0.4,0.6,0.8,1],\n",
        "             'learning_rate':[0.01,0.1,0.2,0.4],\n",
        "             'max_depth':[2,3,4,6],\n",
        "             'n_estimators':[200,300,400,500],\n",
        "              'subsample':[0.4,0.6,0.8,1]}\n",
        "\n",
        "grid_xgb = RandomizedSearchCV(xgbcl,param_grid,n_iter=30,scoring='accuracy',cv = 10,refit = True)"
      ],
      "metadata": {
        "id": "SF5M-La8r37W"
      },
      "execution_count": null,
      "outputs": []
    },
    {
      "cell_type": "code",
      "source": [
        "grid_xgb.fit(x_train_std,y_train)\n",
        "print(\"Best Score ==> \", grid_xgb.best_score_)\n",
        "print(\"Tuned Paramerers ==> \",grid_xgb.best_params_)\n",
        "print(\"Accuracy on Train set ==> \", grid_xgb.score(x_train_std,y_train))\n",
        "print(\"Accuracy on Test set ==> \", grid_xgb.score(x_test_std,y_test))"
      ],
      "metadata": {
        "colab": {
          "base_uri": "https://localhost:8080/"
        },
        "id": "UgPj1SizsAoW",
        "outputId": "c64d723f-450a-4c4d-ca24-08788e5e8f23"
      },
      "execution_count": null,
      "outputs": [
        {
          "output_type": "stream",
          "name": "stdout",
          "text": [
            "Best Score ==>  0.7692679975801572\n",
            "Tuned Paramerers ==>  {'subsample': 0.6, 'n_estimators': 500, 'max_depth': 2, 'learning_rate': 0.01, 'colsample_bytree': 0.4, 'booster': 'gbtree'}\n",
            "Accuracy on Train set ==>  0.8006932409012132\n",
            "Accuracy on Test set ==>  0.7517241379310344\n"
          ]
        }
      ]
    },
    {
      "cell_type": "markdown",
      "source": [
        "# **ANN**"
      ],
      "metadata": {
        "id": "8UFnDhYivWlH"
      }
    },
    {
      "cell_type": "code",
      "source": [
        "import keras\n",
        "from keras.models import Sequential\n",
        "from keras.layers import Dense\n",
        "\n",
        "classifier = Sequential()\n",
        "\n",
        "classifier.add(Dense(units= 6, kernel_initializer = 'uniform', activation = 'relu', input_dim = 5))\n",
        "classifier.add(Dense(units= 6, kernel_initializer = 'uniform', activation = 'relu'))\n",
        "classifier.add(Dense(units = 1, kernel_initializer = 'uniform', activation = 'sigmoid'))\n",
        "\n",
        "classifier.compile(optimizer = 'adam', loss = 'binary_crossentropy', metrics = ['accuracy'])\n",
        "\n",
        "classifier.fit(x_train_std, y_train, batch_size = 10, epochs = 100)"
      ],
      "metadata": {
        "colab": {
          "base_uri": "https://localhost:8080/"
        },
        "id": "5lQIR7ptsKWT",
        "outputId": "b559bd08-ea3d-4db5-a8c5-fe987a674903"
      },
      "execution_count": null,
      "outputs": [
        {
          "output_type": "stream",
          "name": "stdout",
          "text": [
            "Epoch 1/100\n",
            "58/58 [==============================] - 2s 6ms/step - loss: 0.6889 - accuracy: 0.6707\n",
            "Epoch 2/100\n",
            "58/58 [==============================] - 0s 4ms/step - loss: 0.6641 - accuracy: 0.6707\n",
            "Epoch 3/100\n",
            "58/58 [==============================] - 0s 2ms/step - loss: 0.5946 - accuracy: 0.6707\n",
            "Epoch 4/100\n",
            "58/58 [==============================] - 0s 2ms/step - loss: 0.5346 - accuracy: 0.6794\n",
            "Epoch 5/100\n",
            "58/58 [==============================] - 0s 2ms/step - loss: 0.5118 - accuracy: 0.7522\n",
            "Epoch 6/100\n",
            "58/58 [==============================] - 0s 2ms/step - loss: 0.5012 - accuracy: 0.7782\n",
            "Epoch 7/100\n",
            "58/58 [==============================] - 0s 2ms/step - loss: 0.4939 - accuracy: 0.7834\n",
            "Epoch 8/100\n",
            "58/58 [==============================] - 0s 2ms/step - loss: 0.4880 - accuracy: 0.7782\n",
            "Epoch 9/100\n",
            "58/58 [==============================] - 0s 2ms/step - loss: 0.4824 - accuracy: 0.7782\n",
            "Epoch 10/100\n",
            "58/58 [==============================] - 0s 2ms/step - loss: 0.4788 - accuracy: 0.7747\n",
            "Epoch 11/100\n",
            "58/58 [==============================] - 0s 2ms/step - loss: 0.4757 - accuracy: 0.7782\n",
            "Epoch 12/100\n",
            "58/58 [==============================] - 0s 2ms/step - loss: 0.4726 - accuracy: 0.7764\n",
            "Epoch 13/100\n",
            "58/58 [==============================] - 0s 2ms/step - loss: 0.4696 - accuracy: 0.7764\n",
            "Epoch 14/100\n",
            "58/58 [==============================] - 0s 2ms/step - loss: 0.4679 - accuracy: 0.7747\n",
            "Epoch 15/100\n",
            "58/58 [==============================] - 0s 2ms/step - loss: 0.4658 - accuracy: 0.7764\n",
            "Epoch 16/100\n",
            "58/58 [==============================] - 0s 2ms/step - loss: 0.4644 - accuracy: 0.7764\n",
            "Epoch 17/100\n",
            "58/58 [==============================] - 0s 2ms/step - loss: 0.4637 - accuracy: 0.7764\n",
            "Epoch 18/100\n",
            "58/58 [==============================] - 0s 2ms/step - loss: 0.4621 - accuracy: 0.7782\n",
            "Epoch 19/100\n",
            "58/58 [==============================] - 0s 2ms/step - loss: 0.4610 - accuracy: 0.7747\n",
            "Epoch 20/100\n",
            "58/58 [==============================] - 0s 2ms/step - loss: 0.4609 - accuracy: 0.7747\n",
            "Epoch 21/100\n",
            "58/58 [==============================] - 0s 2ms/step - loss: 0.4601 - accuracy: 0.7782\n",
            "Epoch 22/100\n",
            "58/58 [==============================] - 0s 2ms/step - loss: 0.4598 - accuracy: 0.7782\n",
            "Epoch 23/100\n",
            "58/58 [==============================] - 0s 2ms/step - loss: 0.4595 - accuracy: 0.7816\n",
            "Epoch 24/100\n",
            "58/58 [==============================] - 0s 2ms/step - loss: 0.4600 - accuracy: 0.7747\n",
            "Epoch 25/100\n",
            "58/58 [==============================] - 0s 2ms/step - loss: 0.4589 - accuracy: 0.7816\n",
            "Epoch 26/100\n",
            "58/58 [==============================] - 0s 2ms/step - loss: 0.4587 - accuracy: 0.7747\n",
            "Epoch 27/100\n",
            "58/58 [==============================] - 0s 2ms/step - loss: 0.4597 - accuracy: 0.7764\n",
            "Epoch 28/100\n",
            "58/58 [==============================] - 0s 2ms/step - loss: 0.4584 - accuracy: 0.7782\n",
            "Epoch 29/100\n",
            "58/58 [==============================] - 0s 2ms/step - loss: 0.4574 - accuracy: 0.7782\n",
            "Epoch 30/100\n",
            "58/58 [==============================] - 0s 2ms/step - loss: 0.4577 - accuracy: 0.7816\n",
            "Epoch 31/100\n",
            "58/58 [==============================] - 0s 2ms/step - loss: 0.4575 - accuracy: 0.7764\n",
            "Epoch 32/100\n",
            "58/58 [==============================] - 0s 2ms/step - loss: 0.4573 - accuracy: 0.7816\n",
            "Epoch 33/100\n",
            "58/58 [==============================] - 0s 2ms/step - loss: 0.4564 - accuracy: 0.7782\n",
            "Epoch 34/100\n",
            "58/58 [==============================] - 0s 2ms/step - loss: 0.4562 - accuracy: 0.7782\n",
            "Epoch 35/100\n",
            "58/58 [==============================] - 0s 2ms/step - loss: 0.4563 - accuracy: 0.7782\n",
            "Epoch 36/100\n",
            "58/58 [==============================] - 0s 2ms/step - loss: 0.4555 - accuracy: 0.7782\n",
            "Epoch 37/100\n",
            "58/58 [==============================] - 0s 2ms/step - loss: 0.4554 - accuracy: 0.7764\n",
            "Epoch 38/100\n",
            "58/58 [==============================] - 0s 2ms/step - loss: 0.4553 - accuracy: 0.7782\n",
            "Epoch 39/100\n",
            "58/58 [==============================] - 0s 2ms/step - loss: 0.4549 - accuracy: 0.7799\n",
            "Epoch 40/100\n",
            "58/58 [==============================] - 0s 2ms/step - loss: 0.4549 - accuracy: 0.7834\n",
            "Epoch 41/100\n",
            "58/58 [==============================] - 0s 2ms/step - loss: 0.4559 - accuracy: 0.7782\n",
            "Epoch 42/100\n",
            "58/58 [==============================] - 0s 2ms/step - loss: 0.4550 - accuracy: 0.7782\n",
            "Epoch 43/100\n",
            "58/58 [==============================] - 0s 2ms/step - loss: 0.4546 - accuracy: 0.7782\n",
            "Epoch 44/100\n",
            "58/58 [==============================] - 0s 2ms/step - loss: 0.4538 - accuracy: 0.7782\n",
            "Epoch 45/100\n",
            "58/58 [==============================] - 0s 2ms/step - loss: 0.4541 - accuracy: 0.7799\n",
            "Epoch 46/100\n",
            "58/58 [==============================] - 0s 2ms/step - loss: 0.4542 - accuracy: 0.7764\n",
            "Epoch 47/100\n",
            "58/58 [==============================] - 0s 2ms/step - loss: 0.4538 - accuracy: 0.7799\n",
            "Epoch 48/100\n",
            "58/58 [==============================] - 0s 2ms/step - loss: 0.4536 - accuracy: 0.7764\n",
            "Epoch 49/100\n",
            "58/58 [==============================] - 0s 2ms/step - loss: 0.4535 - accuracy: 0.7816\n",
            "Epoch 50/100\n",
            "58/58 [==============================] - 0s 2ms/step - loss: 0.4538 - accuracy: 0.7747\n",
            "Epoch 51/100\n",
            "58/58 [==============================] - 0s 2ms/step - loss: 0.4534 - accuracy: 0.7764\n",
            "Epoch 52/100\n",
            "58/58 [==============================] - 0s 2ms/step - loss: 0.4538 - accuracy: 0.7816\n",
            "Epoch 53/100\n",
            "58/58 [==============================] - 0s 2ms/step - loss: 0.4530 - accuracy: 0.7816\n",
            "Epoch 54/100\n",
            "58/58 [==============================] - 0s 2ms/step - loss: 0.4532 - accuracy: 0.7764\n",
            "Epoch 55/100\n",
            "58/58 [==============================] - 0s 2ms/step - loss: 0.4528 - accuracy: 0.7799\n",
            "Epoch 56/100\n",
            "58/58 [==============================] - 0s 2ms/step - loss: 0.4526 - accuracy: 0.7799\n",
            "Epoch 57/100\n",
            "58/58 [==============================] - 0s 2ms/step - loss: 0.4522 - accuracy: 0.7730\n",
            "Epoch 58/100\n",
            "58/58 [==============================] - 0s 2ms/step - loss: 0.4525 - accuracy: 0.7799\n",
            "Epoch 59/100\n",
            "58/58 [==============================] - 0s 2ms/step - loss: 0.4523 - accuracy: 0.7782\n",
            "Epoch 60/100\n",
            "58/58 [==============================] - 0s 2ms/step - loss: 0.4518 - accuracy: 0.7764\n",
            "Epoch 61/100\n",
            "58/58 [==============================] - 0s 2ms/step - loss: 0.4521 - accuracy: 0.7764\n",
            "Epoch 62/100\n",
            "58/58 [==============================] - 0s 2ms/step - loss: 0.4519 - accuracy: 0.7764\n",
            "Epoch 63/100\n",
            "58/58 [==============================] - 0s 2ms/step - loss: 0.4517 - accuracy: 0.7747\n",
            "Epoch 64/100\n",
            "58/58 [==============================] - 0s 2ms/step - loss: 0.4515 - accuracy: 0.7747\n",
            "Epoch 65/100\n",
            "58/58 [==============================] - 0s 2ms/step - loss: 0.4513 - accuracy: 0.7764\n",
            "Epoch 66/100\n",
            "58/58 [==============================] - 0s 2ms/step - loss: 0.4520 - accuracy: 0.7730\n",
            "Epoch 67/100\n",
            "58/58 [==============================] - 0s 2ms/step - loss: 0.4523 - accuracy: 0.7747\n",
            "Epoch 68/100\n",
            "58/58 [==============================] - 0s 2ms/step - loss: 0.4512 - accuracy: 0.7747\n",
            "Epoch 69/100\n",
            "58/58 [==============================] - 0s 2ms/step - loss: 0.4516 - accuracy: 0.7747\n",
            "Epoch 70/100\n",
            "58/58 [==============================] - 0s 2ms/step - loss: 0.4512 - accuracy: 0.7712\n",
            "Epoch 71/100\n",
            "58/58 [==============================] - 0s 2ms/step - loss: 0.4510 - accuracy: 0.7764\n",
            "Epoch 72/100\n",
            "58/58 [==============================] - 0s 2ms/step - loss: 0.4514 - accuracy: 0.7730\n",
            "Epoch 73/100\n",
            "58/58 [==============================] - 0s 2ms/step - loss: 0.4513 - accuracy: 0.7764\n",
            "Epoch 74/100\n",
            "58/58 [==============================] - 0s 2ms/step - loss: 0.4506 - accuracy: 0.7730\n",
            "Epoch 75/100\n",
            "58/58 [==============================] - 0s 2ms/step - loss: 0.4510 - accuracy: 0.7799\n",
            "Epoch 76/100\n",
            "58/58 [==============================] - 0s 2ms/step - loss: 0.4505 - accuracy: 0.7782\n",
            "Epoch 77/100\n",
            "58/58 [==============================] - 0s 2ms/step - loss: 0.4501 - accuracy: 0.7695\n",
            "Epoch 78/100\n",
            "58/58 [==============================] - 0s 2ms/step - loss: 0.4508 - accuracy: 0.7764\n",
            "Epoch 79/100\n",
            "58/58 [==============================] - 0s 2ms/step - loss: 0.4507 - accuracy: 0.7764\n",
            "Epoch 80/100\n",
            "58/58 [==============================] - 0s 2ms/step - loss: 0.4511 - accuracy: 0.7747\n",
            "Epoch 81/100\n",
            "58/58 [==============================] - 0s 2ms/step - loss: 0.4514 - accuracy: 0.7747\n",
            "Epoch 82/100\n",
            "58/58 [==============================] - 0s 2ms/step - loss: 0.4499 - accuracy: 0.7764\n",
            "Epoch 83/100\n",
            "58/58 [==============================] - 0s 2ms/step - loss: 0.4500 - accuracy: 0.7747\n",
            "Epoch 84/100\n",
            "58/58 [==============================] - 0s 2ms/step - loss: 0.4502 - accuracy: 0.7747\n",
            "Epoch 85/100\n",
            "58/58 [==============================] - 0s 2ms/step - loss: 0.4499 - accuracy: 0.7695\n",
            "Epoch 86/100\n",
            "58/58 [==============================] - 0s 2ms/step - loss: 0.4499 - accuracy: 0.7730\n",
            "Epoch 87/100\n",
            "58/58 [==============================] - 0s 2ms/step - loss: 0.4496 - accuracy: 0.7782\n",
            "Epoch 88/100\n",
            "58/58 [==============================] - 0s 2ms/step - loss: 0.4500 - accuracy: 0.7712\n",
            "Epoch 89/100\n",
            "58/58 [==============================] - 0s 2ms/step - loss: 0.4497 - accuracy: 0.7764\n",
            "Epoch 90/100\n",
            "58/58 [==============================] - 0s 2ms/step - loss: 0.4506 - accuracy: 0.7712\n",
            "Epoch 91/100\n",
            "58/58 [==============================] - 0s 2ms/step - loss: 0.4497 - accuracy: 0.7695\n",
            "Epoch 92/100\n",
            "58/58 [==============================] - 0s 2ms/step - loss: 0.4496 - accuracy: 0.7730\n",
            "Epoch 93/100\n",
            "58/58 [==============================] - 0s 2ms/step - loss: 0.4494 - accuracy: 0.7764\n",
            "Epoch 94/100\n",
            "58/58 [==============================] - 0s 2ms/step - loss: 0.4504 - accuracy: 0.7730\n",
            "Epoch 95/100\n",
            "58/58 [==============================] - 0s 2ms/step - loss: 0.4494 - accuracy: 0.7816\n",
            "Epoch 96/100\n",
            "58/58 [==============================] - 0s 2ms/step - loss: 0.4493 - accuracy: 0.7747\n",
            "Epoch 97/100\n",
            "58/58 [==============================] - 0s 2ms/step - loss: 0.4493 - accuracy: 0.7712\n",
            "Epoch 98/100\n",
            "58/58 [==============================] - 0s 2ms/step - loss: 0.4492 - accuracy: 0.7747\n",
            "Epoch 99/100\n",
            "58/58 [==============================] - 0s 2ms/step - loss: 0.4490 - accuracy: 0.7730\n",
            "Epoch 100/100\n",
            "58/58 [==============================] - 0s 2ms/step - loss: 0.4503 - accuracy: 0.7730\n"
          ]
        },
        {
          "output_type": "execute_result",
          "data": {
            "text/plain": [
              "<keras.callbacks.History at 0x7ff0d14867d0>"
            ]
          },
          "metadata": {},
          "execution_count": 70
        }
      ]
    },
    {
      "cell_type": "code",
      "source": [
        "y_pred_test = classifier.predict(x_test_std)\n",
        "y_pred_test=y_pred_test>0.5\n",
        "\n",
        "y_pred_train = classifier.predict(x_train_std)\n",
        "y_pred_train=y_pred_train>0.5\n",
        "\n",
        "print(\"Accuracy on Train Set ==> \",metrics.accuracy_score(y_train,y_pred_train))\n",
        "print(\"Accuracy on Test Set ==> \",metrics.accuracy_score(y_test,y_pred_test))"
      ],
      "metadata": {
        "colab": {
          "base_uri": "https://localhost:8080/"
        },
        "id": "6SX4e_NQsXcg",
        "outputId": "1878bd72-70d4-4b02-8015-e6875e08b3b3"
      },
      "execution_count": null,
      "outputs": [
        {
          "output_type": "stream",
          "name": "stdout",
          "text": [
            "Accuracy on Train Set ==>  0.7729636048526863\n",
            "Accuracy on Test Set ==>  0.7862068965517242\n"
          ]
        }
      ]
    }
  ]
}